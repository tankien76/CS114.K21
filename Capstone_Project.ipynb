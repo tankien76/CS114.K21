{
  "nbformat": 4,
  "nbformat_minor": 0,
  "metadata": {
    "colab": {
      "name": "Capstone Project.ipynb",
      "provenance": [],
      "collapsed_sections": [],
      "toc_visible": true,
      "authorship_tag": "ABX9TyOXt0XdjMtQUgO+1tApG+wo",
      "include_colab_link": true
    },
    "kernelspec": {
      "name": "python3",
      "display_name": "Python 3"
    }
  },
  "cells": [
    {
      "cell_type": "markdown",
      "metadata": {
        "id": "view-in-github",
        "colab_type": "text"
      },
      "source": [
        "<a href=\"https://colab.research.google.com/github/tankien76/CS114.K21/blob/master/Capstone_Project.ipynb\" target=\"_parent\"><img src=\"https://colab.research.google.com/assets/colab-badge.svg\" alt=\"Open In Colab\"/></a>"
      ]
    },
    {
      "cell_type": "markdown",
      "metadata": {
        "id": "PxLauGJEGRTT",
        "colab_type": "text"
      },
      "source": [
        "# Danh sách nhóm\n",
        "- Đoàn Xuân Minh - MSSV: 18521093\n",
        "- Lê Trần Phúc Nguyên - MSSV: 18521157\n",
        "- Phan Quang Tấn - MSSV: 18521377\n"
      ]
    },
    {
      "cell_type": "markdown",
      "metadata": {
        "id": "dmZ9dSQ_G5Ce",
        "colab_type": "text"
      },
      "source": [
        "# Mô tả bài toán : Phân loại chủ đề của một bài báo tiếng Anh\n",
        "- Input: Một đoạn văn bản của một bài báo tiếng Anh (article)\n",
        "- Output: Chủ đề của đoạn văn bản "
      ]
    },
    {
      "cell_type": "markdown",
      "metadata": {
        "id": "buiDkK7rHboO",
        "colab_type": "text"
      },
      "source": [
        "Code tham khảo: https://towardsdatascience.com/sarcasm-detection-step-towards-sentiment-analysis-84cb013bb6db"
      ]
    },
    {
      "cell_type": "markdown",
      "metadata": {
        "id": "tg3qbjf7HdSF",
        "colab_type": "text"
      },
      "source": [
        "Code tham khảo: https://pythonspot.com/nltk-stop-words/"
      ]
    },
    {
      "cell_type": "markdown",
      "metadata": {
        "id": "8WwK6DeaI7Fv",
        "colab_type": "text"
      },
      "source": [
        "# Prepare dataset"
      ]
    },
    {
      "cell_type": "markdown",
      "metadata": {
        "id": "vsnxtpb_I9cF",
        "colab_type": "text"
      },
      "source": [
        "Thực hiện cào dữ liệu (crawl data) từ các trang báo tiếng Anh nổi tiếng như : The Sun https://www.thesun.co.uk/ ,Dailymail https://www.dailymail.co.uk/home/index.html, Telepraph http://telegraph.co.uk/"
      ]
    },
    {
      "cell_type": "markdown",
      "metadata": {
        "id": "hWojIb1YMJMf",
        "colab_type": "text"
      },
      "source": [
        "Code Crawl : https://github.com/tankien76/CS114.K21/blob/master/CrawlerTest.ipynb"
      ]
    },
    {
      "cell_type": "markdown",
      "metadata": {
        "id": "2wBGcFSELVLY",
        "colab_type": "text"
      },
      "source": [
        "Tập dataset sau khi crawl gồm có hơn 2600 bài báo với 8 chủ đề khác nhau như : sport, tvshowbiz, femail,.... Mỗi chủ đề gồm có hơn 300 bài báo."
      ]
    },
    {
      "cell_type": "markdown",
      "metadata": {
        "id": "IIEnE2DIH_6L",
        "colab_type": "text"
      },
      "source": [
        "Xác thực và tạo ứng dụng PyDrive."
      ]
    },
    {
      "cell_type": "code",
      "metadata": {
        "id": "E6jjP_fsRRZY",
        "colab_type": "code",
        "colab": {
          "base_uri": "https://localhost:8080/",
          "height": 272
        },
        "outputId": "500976ad-ee2c-49ac-981e-37a717f3292d"
      },
      "source": [
        "!pip install PyDrive"
      ],
      "execution_count": 1,
      "outputs": [
        {
          "output_type": "stream",
          "text": [
            "Requirement already satisfied: PyDrive in /usr/local/lib/python3.6/dist-packages (1.3.1)\n",
            "Requirement already satisfied: PyYAML>=3.0 in /usr/local/lib/python3.6/dist-packages (from PyDrive) (3.13)\n",
            "Requirement already satisfied: oauth2client>=4.0.0 in /usr/local/lib/python3.6/dist-packages (from PyDrive) (4.1.3)\n",
            "Requirement already satisfied: google-api-python-client>=1.2 in /usr/local/lib/python3.6/dist-packages (from PyDrive) (1.7.12)\n",
            "Requirement already satisfied: httplib2>=0.9.1 in /usr/local/lib/python3.6/dist-packages (from oauth2client>=4.0.0->PyDrive) (0.17.4)\n",
            "Requirement already satisfied: six>=1.6.1 in /usr/local/lib/python3.6/dist-packages (from oauth2client>=4.0.0->PyDrive) (1.15.0)\n",
            "Requirement already satisfied: pyasn1-modules>=0.0.5 in /usr/local/lib/python3.6/dist-packages (from oauth2client>=4.0.0->PyDrive) (0.2.8)\n",
            "Requirement already satisfied: pyasn1>=0.1.7 in /usr/local/lib/python3.6/dist-packages (from oauth2client>=4.0.0->PyDrive) (0.4.8)\n",
            "Requirement already satisfied: rsa>=3.1.4 in /usr/local/lib/python3.6/dist-packages (from oauth2client>=4.0.0->PyDrive) (4.6)\n",
            "Requirement already satisfied: google-auth>=1.4.1 in /usr/local/lib/python3.6/dist-packages (from google-api-python-client>=1.2->PyDrive) (1.17.2)\n",
            "Requirement already satisfied: google-auth-httplib2>=0.0.3 in /usr/local/lib/python3.6/dist-packages (from google-api-python-client>=1.2->PyDrive) (0.0.4)\n",
            "Requirement already satisfied: uritemplate<4dev,>=3.0.0 in /usr/local/lib/python3.6/dist-packages (from google-api-python-client>=1.2->PyDrive) (3.0.1)\n",
            "Requirement already satisfied: setuptools>=40.3.0 in /usr/local/lib/python3.6/dist-packages (from google-auth>=1.4.1->google-api-python-client>=1.2->PyDrive) (49.2.0)\n",
            "Requirement already satisfied: cachetools<5.0,>=2.0.0 in /usr/local/lib/python3.6/dist-packages (from google-auth>=1.4.1->google-api-python-client>=1.2->PyDrive) (4.1.1)\n"
          ],
          "name": "stdout"
        }
      ]
    },
    {
      "cell_type": "code",
      "metadata": {
        "id": "Bqy536FtRTxH",
        "colab_type": "code",
        "colab": {}
      },
      "source": [
        "from pydrive.auth import GoogleAuth\n",
        "from pydrive.drive import GoogleDrive\n",
        "from google.colab import auth\n",
        "from oauth2client.client import GoogleCredentials"
      ],
      "execution_count": 2,
      "outputs": []
    },
    {
      "cell_type": "code",
      "metadata": {
        "id": "aESAzJW40pu1",
        "colab_type": "code",
        "colab": {}
      },
      "source": [
        "auth.authenticate_user()\n",
        "gauth = GoogleAuth()\n",
        "gauth.credentials = GoogleCredentials.get_application_default()\n",
        "drive = GoogleDrive(gauth)"
      ],
      "execution_count": 3,
      "outputs": []
    },
    {
      "cell_type": "code",
      "metadata": {
        "id": "C0wGsF59RXmm",
        "colab_type": "code",
        "colab": {}
      },
      "source": [
        "downloaded = drive.CreateFile({'id':\"1o2zIVZBmqSJa8huDq_Nn8waeTksbH4KI\"})\n",
        "downloaded.GetContentFile('text_data.csv')"
      ],
      "execution_count": 4,
      "outputs": []
    },
    {
      "cell_type": "markdown",
      "metadata": {
        "id": "4JIH9YF6VGst",
        "colab_type": "text"
      },
      "source": [
        "Import các thư viện:\n",
        "- pandas : đọc dữ liệu file json\n",
        "- numpy : xử lý dữ liệu text"
      ]
    },
    {
      "cell_type": "code",
      "metadata": {
        "id": "-moTwCWm4qpn",
        "colab_type": "code",
        "colab": {}
      },
      "source": [
        "import pandas as pd, numpy as np, re"
      ],
      "execution_count": 5,
      "outputs": []
    },
    {
      "cell_type": "markdown",
      "metadata": {
        "id": "FafRyyQC8nF4",
        "colab_type": "text"
      },
      "source": [
        "Đọc dữ liệu bằng thư viện pandas từ file text_data.csv"
      ]
    },
    {
      "cell_type": "code",
      "metadata": {
        "id": "10y3eUQS4sNX",
        "colab_type": "code",
        "colab": {
          "base_uri": "https://localhost:8080/",
          "height": 195
        },
        "outputId": "ba1af668-ba4f-4eca-897b-c72d3acc4e0b"
      },
      "source": [
        "dataset = pd.read_csv(\"text_data.csv\", encoding='ISO 8859-1')\n",
        "dataset.head()"
      ],
      "execution_count": 6,
      "outputs": [
        {
          "output_type": "execute_result",
          "data": {
            "text/html": [
              "<div>\n",
              "<style scoped>\n",
              "    .dataframe tbody tr th:only-of-type {\n",
              "        vertical-align: middle;\n",
              "    }\n",
              "\n",
              "    .dataframe tbody tr th {\n",
              "        vertical-align: top;\n",
              "    }\n",
              "\n",
              "    .dataframe thead th {\n",
              "        text-align: right;\n",
              "    }\n",
              "</style>\n",
              "<table border=\"1\" class=\"dataframe\">\n",
              "  <thead>\n",
              "    <tr style=\"text-align: right;\">\n",
              "      <th></th>\n",
              "      <th>article</th>\n",
              "      <th>category</th>\n",
              "    </tr>\n",
              "  </thead>\n",
              "  <tbody>\n",
              "    <tr>\n",
              "      <th>0</th>\n",
              "      <td>PHOTOS of McDonalds restaurants and merchandis...</td>\n",
              "      <td>lifestyle</td>\n",
              "    </tr>\n",
              "    <tr>\n",
              "      <th>1</th>\n",
              "      <td>ARIESMarch 21 to April 20SATURN, the most powe...</td>\n",
              "      <td>lifestyle</td>\n",
              "    </tr>\n",
              "    <tr>\n",
              "      <th>2</th>\n",
              "      <td>BRITS are being tempted to fly abroad once loc...</td>\n",
              "      <td>lifestyle</td>\n",
              "    </tr>\n",
              "    <tr>\n",
              "      <th>3</th>\n",
              "      <td>DONNA Mitchell tried every fad diet in the boo...</td>\n",
              "      <td>lifestyle</td>\n",
              "    </tr>\n",
              "    <tr>\n",
              "      <th>4</th>\n",
              "      <td>FASHION fans can buy jeans and a sleeveless to...</td>\n",
              "      <td>lifestyle</td>\n",
              "    </tr>\n",
              "  </tbody>\n",
              "</table>\n",
              "</div>"
            ],
            "text/plain": [
              "                                             article   category\n",
              "0  PHOTOS of McDonalds restaurants and merchandis...  lifestyle\n",
              "1  ARIESMarch 21 to April 20SATURN, the most powe...  lifestyle\n",
              "2  BRITS are being tempted to fly abroad once loc...  lifestyle\n",
              "3  DONNA Mitchell tried every fad diet in the boo...  lifestyle\n",
              "4  FASHION fans can buy jeans and a sleeveless to...  lifestyle"
            ]
          },
          "metadata": {
            "tags": []
          },
          "execution_count": 6
        }
      ]
    },
    {
      "cell_type": "markdown",
      "metadata": {
        "id": "ExRkgG8qVqJ5",
        "colab_type": "text"
      },
      "source": [
        "Đưa dữ liệu article và category vào list tương ứng"
      ]
    },
    {
      "cell_type": "code",
      "metadata": {
        "id": "m7MEcUKZ5Lcg",
        "colab_type": "code",
        "colab": {}
      },
      "source": [
        "features = dataset['article']\n",
        "labels = dataset['category']"
      ],
      "execution_count": 7,
      "outputs": []
    },
    {
      "cell_type": "markdown",
      "metadata": {
        "id": "yMylBoluVvaA",
        "colab_type": "text"
      },
      "source": [
        "Thực hiện chuyển đổi các nhãn dán thành số để dễ dàng thực hiện trong khi training và test model"
      ]
    },
    {
      "cell_type": "code",
      "metadata": {
        "id": "g9WLhwL7C9Xx",
        "colab_type": "code",
        "colab": {}
      },
      "source": [
        "from sklearn import preprocessing\n",
        "number = preprocessing.LabelEncoder()\n",
        "labels= number.fit_transform(labels)"
      ],
      "execution_count": 8,
      "outputs": []
    },
    {
      "cell_type": "markdown",
      "metadata": {
        "id": "mBZznbdjvHYh",
        "colab_type": "text"
      },
      "source": [
        "# Data Preprocessing\n",
        "Tiến hành xử lý dữ liệu văn bản (article) :\n",
        "\n",
        "- Loại bỏ các ký tự đặc biệt(dấu câu, số)\n",
        "- Loại bỏ các stopword trong tiếng Anh"
      ]
    },
    {
      "cell_type": "markdown",
      "metadata": {
        "id": "gdRlI-kDb7S8",
        "colab_type": "text"
      },
      "source": [
        "download punkt trong thư viện nltk để tách từ khi xử lý dữ liệu"
      ]
    },
    {
      "cell_type": "code",
      "metadata": {
        "id": "MrFKMfgs5cSP",
        "colab_type": "code",
        "colab": {
          "base_uri": "https://localhost:8080/",
          "height": 67
        },
        "outputId": "759a5eca-1a1e-4b44-f1d7-27d909c7c624"
      },
      "source": [
        "import nltk\n",
        "nltk.download('punkt')"
      ],
      "execution_count": 9,
      "outputs": [
        {
          "output_type": "stream",
          "text": [
            "[nltk_data] Downloading package punkt to /root/nltk_data...\n",
            "[nltk_data]   Unzipping tokenizers/punkt.zip.\n"
          ],
          "name": "stdout"
        },
        {
          "output_type": "execute_result",
          "data": {
            "text/plain": [
              "True"
            ]
          },
          "metadata": {
            "tags": []
          },
          "execution_count": 9
        }
      ]
    },
    {
      "cell_type": "markdown",
      "metadata": {
        "id": "pK300f9jcV-M",
        "colab_type": "text"
      },
      "source": [
        "download stopwords trong thư viện nltk để xử lý các từ không cần thiết trong tiếng anh"
      ]
    },
    {
      "cell_type": "code",
      "metadata": {
        "id": "tO8G6xin5bMg",
        "colab_type": "code",
        "colab": {
          "base_uri": "https://localhost:8080/",
          "height": 67
        },
        "outputId": "2f9b6a7f-21f8-4940-9740-5186a49ade1b"
      },
      "source": [
        "import nltk\n",
        "nltk.download('stopwords')"
      ],
      "execution_count": 10,
      "outputs": [
        {
          "output_type": "stream",
          "text": [
            "[nltk_data] Downloading package stopwords to /root/nltk_data...\n",
            "[nltk_data]   Unzipping corpora/stopwords.zip.\n"
          ],
          "name": "stdout"
        },
        {
          "output_type": "execute_result",
          "data": {
            "text/plain": [
              "True"
            ]
          },
          "metadata": {
            "tags": []
          },
          "execution_count": 10
        }
      ]
    },
    {
      "cell_type": "markdown",
      "metadata": {
        "id": "fCkdmBRacYbw",
        "colab_type": "text"
      },
      "source": [
        "Import thư viện nltk để sử lý ngôn ngữ tự nhiên"
      ]
    },
    {
      "cell_type": "code",
      "metadata": {
        "id": "p1yGhSpDRjcR",
        "colab_type": "code",
        "colab": {}
      },
      "source": [
        "from nltk.corpus import stopwords\n",
        "from nltk.tokenize import word_tokenize"
      ],
      "execution_count": 11,
      "outputs": []
    },
    {
      "cell_type": "markdown",
      "metadata": {
        "id": "bdv0RQcGcicr",
        "colab_type": "text"
      },
      "source": [
        "Loại bỏ các ký tự đặc biệt, dấu câu, số,..."
      ]
    },
    {
      "cell_type": "code",
      "metadata": {
        "id": "MItbIJ9q5RHX",
        "colab_type": "code",
        "colab": {}
      },
      "source": [
        "features = features.apply(lambda s : re.sub('[^a-zA-Z]', ' ', s))"
      ],
      "execution_count": 12,
      "outputs": []
    },
    {
      "cell_type": "markdown",
      "metadata": {
        "id": "RkBhud5RcrBx",
        "colab_type": "text"
      },
      "source": [
        "Loại bỏ các stopword (các từ không ảnh hưởng đến nội dung của văn bản) trong tiếng Anh"
      ]
    },
    {
      "cell_type": "code",
      "metadata": {
        "id": "1Wu1BXlQ4FS4",
        "colab_type": "code",
        "colab": {}
      },
      "source": [
        "stop_words = set(stopwords.words('english'))\n",
        "for i in range (len(features)):\n",
        "  word_tokens = word_tokenize(features[i])\n",
        "\n",
        "  filtered_sentence = [w for w in word_tokens if not w in stop_words]\n",
        "\n",
        "  filtered_sentence = []\n",
        "\n",
        "  for w in word_tokens:\n",
        "      if w not in stop_words:\n",
        "          filtered_sentence.append(w)"
      ],
      "execution_count": 13,
      "outputs": []
    },
    {
      "cell_type": "markdown",
      "metadata": {
        "id": "1rytH6eDH6Hh",
        "colab_type": "text"
      },
      "source": [
        "# Feature Engineering"
      ]
    },
    {
      "cell_type": "markdown",
      "metadata": {
        "id": "R2q1gNsCc5Zx",
        "colab_type": "text"
      },
      "source": [
        "Vector hóa dữ liệu văn bản bằng TF-IDF:\n",
        "- TF: tần suất xuất hiện của 1 từ trong 1 văn bản\n",
        "- IDF: tần suất nghịch của 1 từ trong 1 tập văn bản\n",
        "- .fit: Máy học từ vựng và tính toán idf( tần suất nghịch của 1 từ trong tập các văn bản) của train set.\n",
        "\n",
        "Tham khảo: https://towardsdatascience.com/how-sklearns-tf-idf-is-different-from-the-standard-tf-idf-275fa582e73d"
      ]
    },
    {
      "cell_type": "code",
      "metadata": {
        "id": "RlAwi88g5hpv",
        "colab_type": "code",
        "colab": {
          "base_uri": "https://localhost:8080/",
          "height": 134
        },
        "outputId": "34b0f720-e570-47a2-e477-1c99da9b5a95"
      },
      "source": [
        "from sklearn.feature_extraction.text import TfidfVectorizer\n",
        "tfIdfVec = TfidfVectorizer()\n",
        "tfIdfVec.fit(features)"
      ],
      "execution_count": 14,
      "outputs": [
        {
          "output_type": "execute_result",
          "data": {
            "text/plain": [
              "TfidfVectorizer(analyzer='word', binary=False, decode_error='strict',\n",
              "                dtype=<class 'numpy.float64'>, encoding='utf-8',\n",
              "                input='content', lowercase=True, max_df=1.0, max_features=None,\n",
              "                min_df=1, ngram_range=(1, 1), norm='l2', preprocessor=None,\n",
              "                smooth_idf=True, stop_words=None, strip_accents=None,\n",
              "                sublinear_tf=False, token_pattern='(?u)\\\\b\\\\w\\\\w+\\\\b',\n",
              "                tokenizer=None, use_idf=True, vocabulary=None)"
            ]
          },
          "metadata": {
            "tags": []
          },
          "execution_count": 14
        }
      ]
    },
    {
      "cell_type": "markdown",
      "metadata": {
        "id": "hwPjwYJSc9wJ",
        "colab_type": "text"
      },
      "source": [
        "Đưa dữ liệu văn bản về matrix để training model "
      ]
    },
    {
      "cell_type": "code",
      "metadata": {
        "id": "tARX7fOY5kXv",
        "colab_type": "code",
        "colab": {}
      },
      "source": [
        "tf_idf_x = tfIdfVec.transform(features)"
      ],
      "execution_count": 15,
      "outputs": []
    },
    {
      "cell_type": "markdown",
      "metadata": {
        "id": "PQCW2tlKdAlB",
        "colab_type": "text"
      },
      "source": [
        "Tiến hành chia dữ liệu train và test: theo tỉ lệ 80% training và 20% testing vì khi thực hiện theo tỉ lệ 70/30 thì độ chính xác của các thuật toán giảm"
      ]
    },
    {
      "cell_type": "code",
      "metadata": {
        "id": "C8hKZy4Y5mr_",
        "colab_type": "code",
        "colab": {}
      },
      "source": [
        "from sklearn.model_selection import train_test_split\n",
        "features_train, features_test, labels_train, labels_test = train_test_split(tf_idf_x.toarray(), labels, test_size = .2, random_state = 0)"
      ],
      "execution_count": 16,
      "outputs": []
    },
    {
      "cell_type": "markdown",
      "metadata": {
        "id": "ZndWRL5xdIl4",
        "colab_type": "text"
      },
      "source": [
        "# Chosing Model"
      ]
    },
    {
      "cell_type": "markdown",
      "metadata": {
        "id": "fQgK7dvddQVJ",
        "colab_type": "text"
      },
      "source": [
        "Thêm thư viện sklearn gồm :\n",
        "- Các model sử dụng : LinearSVC, Multinomial Naive Bayes, Logistic Regression"
      ]
    },
    {
      "cell_type": "code",
      "metadata": {
        "id": "IcW2GdUi5mm2",
        "colab_type": "code",
        "colab": {}
      },
      "source": [
        "from sklearn.svm import LinearSVC\n",
        "from sklearn.naive_bayes import MultinomialNB\n",
        "from sklearn.linear_model import LogisticRegression"
      ],
      "execution_count": 21,
      "outputs": []
    },
    {
      "cell_type": "markdown",
      "metadata": {
        "id": "V8cQVwasQpFl",
        "colab_type": "text"
      },
      "source": [
        "Model LinearSVC"
      ]
    },
    {
      "cell_type": "code",
      "metadata": {
        "id": "czzUuCIR51mv",
        "colab_type": "code",
        "colab": {
          "base_uri": "https://localhost:8080/",
          "height": 50
        },
        "outputId": "f4197329-07c0-4231-e2d2-86fceaa7d80a"
      },
      "source": [
        "lsvc = LinearSVC()\n",
        "lsvc.fit(features_train, labels_train)\n",
        "print(\"Train accuracy: \",lsvc.score(features_train, labels_train))\n",
        "print(\"Test accuracy: \",lsvc.score(features_test, labels_test))"
      ],
      "execution_count": 18,
      "outputs": [
        {
          "output_type": "stream",
          "text": [
            "Train accuracy:  0.9982616253802694\n",
            "Test accuracy:  0.8715277777777778\n"
          ],
          "name": "stdout"
        }
      ]
    },
    {
      "cell_type": "markdown",
      "metadata": {
        "id": "yVY_cx9wQs9b",
        "colab_type": "text"
      },
      "source": [
        "Model Multinomial Naive Bayes"
      ]
    },
    {
      "cell_type": "code",
      "metadata": {
        "id": "fWatFhf854ra",
        "colab_type": "code",
        "colab": {
          "base_uri": "https://localhost:8080/",
          "height": 50
        },
        "outputId": "b5756d7b-1ab6-4b70-d32f-547ed6967d03"
      },
      "source": [
        "mnb = MultinomialNB()\n",
        "mnb.fit(features_train, labels_train)\n",
        "print(\"train accuracy: \",mnb.score(features_train, labels_train))\n",
        "print(\"Test accuracy: \",mnb.score(features_test, labels_test))"
      ],
      "execution_count": 19,
      "outputs": [
        {
          "output_type": "stream",
          "text": [
            "train accuracy:  0.9096045197740112\n",
            "Test accuracy:  0.7847222222222222\n"
          ],
          "name": "stdout"
        }
      ]
    },
    {
      "cell_type": "markdown",
      "metadata": {
        "id": "5GhzWa32Qx4j",
        "colab_type": "text"
      },
      "source": [
        "Model Logistic Regression"
      ]
    },
    {
      "cell_type": "code",
      "metadata": {
        "id": "bqARVqPC5-Un",
        "colab_type": "code",
        "colab": {
          "base_uri": "https://localhost:8080/",
          "height": 50
        },
        "outputId": "a662b78c-1c54-401c-b903-606fe4c6d33b"
      },
      "source": [
        "lr = LogisticRegression()\n",
        "lr.fit(features_train, labels_train)\n",
        "print(\"train accuracy: \",lr.score(features_train, labels_train))\n",
        "print(\"Test accuracy: \",lr.score(features_test, labels_test))"
      ],
      "execution_count": 22,
      "outputs": [
        {
          "output_type": "stream",
          "text": [
            "train accuracy:  0.9634941329856584\n",
            "Test accuracy:  0.8506944444444444\n"
          ],
          "name": "stdout"
        }
      ]
    },
    {
      "cell_type": "markdown",
      "metadata": {
        "id": "G46OvEG6eBs4",
        "colab_type": "text"
      },
      "source": [
        "=> Qua accuracy của các model, ta thấy model Linear support classifier có độ chính xác cao nhất với 87,1%."
      ]
    },
    {
      "cell_type": "markdown",
      "metadata": {
        "id": "6PMHA1uDpUhL",
        "colab_type": "text"
      },
      "source": [
        "# Đánh giá Model"
      ]
    },
    {
      "cell_type": "markdown",
      "metadata": {
        "id": "MvM_PCuTpcFx",
        "colab_type": "text"
      },
      "source": [
        "Để đánh giá performance của các model thì cách tính bằng accuracy không phản ánh chính xác dữ liệu được phân loại như thê nào vì vậy chúng ta cần 1 cách tính độ chính xác khác đó là **F1 Score**"
      ]
    },
    {
      "cell_type": "markdown",
      "metadata": {
        "id": "X86zk2shuH8R",
        "colab_type": "text"
      },
      "source": [
        "F1-score: trung bình điều hòa giữa precision và recall\n",
        "\n",
        "F1-score = 2*(precision * recall)/(precision+recall)"
      ]
    },
    {
      "cell_type": "markdown",
      "metadata": {
        "id": "qKmKEK6Gt8o5",
        "colab_type": "text"
      },
      "source": [
        "**Precision** được định nghĩa là tỉ lệ số điểm true positive trong số những điểm được phân loại là positive\n",
        "\n",
        "Precision = TP/(TP+FP)\n",
        "Với : TP(True positive), FP(False positive)"
      ]
    },
    {
      "cell_type": "markdown",
      "metadata": {
        "id": "ZfUtnwdGuE4J",
        "colab_type": "text"
      },
      "source": [
        "**Recall** được định nghĩa là tỉ lệ số điểm true positive trong số những điểm thực sự là positive\n",
        "\n",
        "Recall=TP/(TP+FN) Với TP(True positive), FN(False negative)"
      ]
    },
    {
      "cell_type": "markdown",
      "metadata": {
        "id": "dLJOVMrK91gI",
        "colab_type": "text"
      },
      "source": [
        "Code tham khảo : https://scikit-learn.org/stable/modules/generated/sklearn.metrics.f1_score.html"
      ]
    },
    {
      "cell_type": "code",
      "metadata": {
        "id": "Ail9CGN16Ejf",
        "colab_type": "code",
        "colab": {}
      },
      "source": [
        "from sklearn.metrics import confusion_matrix\n",
        "from sklearn.metrics import f1_score"
      ],
      "execution_count": 23,
      "outputs": []
    },
    {
      "cell_type": "markdown",
      "metadata": {
        "id": "D7AjbeUDQzxz",
        "colab_type": "text"
      },
      "source": [
        "Model LinearSVC"
      ]
    },
    {
      "cell_type": "code",
      "metadata": {
        "id": "AvPWeZH26GUT",
        "colab_type": "code",
        "colab": {
          "base_uri": "https://localhost:8080/",
          "height": 34
        },
        "outputId": "6763106b-602d-4070-c4f6-4399f32281a7"
      },
      "source": [
        "y1_pred=lsvc.predict(features_test) #Lưu kết quả dự đoán của model LinearSVC vào biến y1_pred\n",
        "f1 = f1_score(labels_test, y1_pred, average='macro')\n",
        "print(\"F1 score: \",f1)"
      ],
      "execution_count": 24,
      "outputs": [
        {
          "output_type": "stream",
          "text": [
            "F1 score:  0.8714691306459263\n"
          ],
          "name": "stdout"
        }
      ]
    },
    {
      "cell_type": "markdown",
      "metadata": {
        "id": "7IuhB_kzQ0cz",
        "colab_type": "text"
      },
      "source": [
        "Model Multinomial Naive Bayes"
      ]
    },
    {
      "cell_type": "code",
      "metadata": {
        "id": "N93Ky06J6I83",
        "colab_type": "code",
        "colab": {
          "base_uri": "https://localhost:8080/",
          "height": 34
        },
        "outputId": "de42ba8d-0036-4563-f5a3-d5abd7330af5"
      },
      "source": [
        "y2_pred=mnb.predict(features_test) #Lưu kết quả dự đoán của model MultinomialNB vào biến y2_pred\n",
        "f1 = f1_score(labels_test, y2_pred, average='macro')\n",
        "print(\"F1 score: \",f1)"
      ],
      "execution_count": 25,
      "outputs": [
        {
          "output_type": "stream",
          "text": [
            "F1 score:  0.7863145244924286\n"
          ],
          "name": "stdout"
        }
      ]
    },
    {
      "cell_type": "markdown",
      "metadata": {
        "id": "-GUbX2PyQ6Rz",
        "colab_type": "text"
      },
      "source": [
        "Model Logistic Regression"
      ]
    },
    {
      "cell_type": "code",
      "metadata": {
        "id": "U2r-jpL26MAf",
        "colab_type": "code",
        "colab": {
          "base_uri": "https://localhost:8080/",
          "height": 34
        },
        "outputId": "1cbd62a7-7964-43f4-99a4-7ae88be91d17"
      },
      "source": [
        "y3_pred=lr.predict(features_test) #Lưu kết quả dự đoán của model RandomForest vào biến y3_pred\n",
        "f1 = f1_score(labels_test, y3_pred, average='macro')\n",
        "print(\"F1 score: \",f1)"
      ],
      "execution_count": 26,
      "outputs": [
        {
          "output_type": "stream",
          "text": [
            "F1 score:  0.8505711881578624\n"
          ],
          "name": "stdout"
        }
      ]
    },
    {
      "cell_type": "markdown",
      "metadata": {
        "id": "F6LEDMiafF6H",
        "colab_type": "text"
      },
      "source": [
        "Dùng Confusion Matrix để trực quan hóa về F1 score của từng class\n",
        "\n",
        "Code tham khảo: https://towardsdatascience.com/confusion-matrix-for-your-multi-class-machine-learning-model-ff9aa3bf7826"
      ]
    },
    {
      "cell_type": "markdown",
      "metadata": {
        "id": "ejlb1TnNndPD",
        "colab_type": "text"
      },
      "source": [
        "Model Linear support classifier"
      ]
    },
    {
      "cell_type": "code",
      "metadata": {
        "id": "Tbgj5NPXDAzh",
        "colab_type": "code",
        "colab": {
          "base_uri": "https://localhost:8080/",
          "height": 168
        },
        "outputId": "4974b69d-31ca-41c5-cf56-c593d712009c"
      },
      "source": [
        "confusion = confusion_matrix(labels_test, y1_pred)\n",
        "print('Confusion Matrix')\n",
        "print(confusion)"
      ],
      "execution_count": 27,
      "outputs": [
        {
          "output_type": "stream",
          "text": [
            "Confusion Matrix\n",
            "[[56  5  6  7  0  0  4  8]\n",
            " [ 2 68  1  0  0  0  1  4]\n",
            " [ 4  0 47  3  1  2  1  3]\n",
            " [ 4  1  5 58  1  1  1  0]\n",
            " [ 0  0  0  0 54  0  0  0]\n",
            " [ 0  0  1  1  0 76  0  0]\n",
            " [ 3  1  1  0  0  0 76  0]\n",
            " [ 0  1  0  0  1  0  0 67]]\n"
          ],
          "name": "stdout"
        }
      ]
    },
    {
      "cell_type": "code",
      "metadata": {
        "id": "s_Z_EO1ADljF",
        "colab_type": "code",
        "colab": {
          "base_uri": "https://localhost:8080/",
          "height": 319
        },
        "outputId": "adf8afe9-dd0b-461b-9c3b-f4c9aaa8cf42"
      },
      "source": [
        "from sklearn.metrics import classification_report\n",
        "print('\\nClassification Report\\n')\n",
        "print(classification_report(labels_test, y1_pred, target_names=['femail', 'films', 'health','lifestyle','sport','technology','travel','tvshowbiz']))"
      ],
      "execution_count": 28,
      "outputs": [
        {
          "output_type": "stream",
          "text": [
            "\n",
            "Classification Report\n",
            "\n",
            "              precision    recall  f1-score   support\n",
            "\n",
            "      femail       0.81      0.65      0.72        86\n",
            "       films       0.89      0.89      0.89        76\n",
            "      health       0.77      0.77      0.77        61\n",
            "   lifestyle       0.84      0.82      0.83        71\n",
            "       sport       0.95      1.00      0.97        54\n",
            "  technology       0.96      0.97      0.97        78\n",
            "      travel       0.92      0.94      0.93        81\n",
            "   tvshowbiz       0.82      0.97      0.89        69\n",
            "\n",
            "    accuracy                           0.87       576\n",
            "   macro avg       0.87      0.88      0.87       576\n",
            "weighted avg       0.87      0.87      0.87       576\n",
            "\n"
          ],
          "name": "stdout"
        }
      ]
    },
    {
      "cell_type": "markdown",
      "metadata": {
        "id": "jU3BEZ7pnhDC",
        "colab_type": "text"
      },
      "source": [
        "Model Multinomial Naive Bayes"
      ]
    },
    {
      "cell_type": "code",
      "metadata": {
        "id": "hpBU6YiUqE6f",
        "colab_type": "code",
        "colab": {
          "base_uri": "https://localhost:8080/",
          "height": 168
        },
        "outputId": "4c140f4e-d8e3-4271-bacc-05fa438505cf"
      },
      "source": [
        "confusion = confusion_matrix(labels_test, y2_pred)\n",
        "print('Confusion Matrix')\n",
        "print(confusion)"
      ],
      "execution_count": 29,
      "outputs": [
        {
          "output_type": "stream",
          "text": [
            "Confusion Matrix\n",
            "[[32  2  0 42  0  0  1  9]\n",
            " [ 4 63  1  1  0  1  1  5]\n",
            " [ 1  0 26 29  0  1  2  2]\n",
            " [ 1  0  1 68  0  1  0  0]\n",
            " [ 0  0  0  1 53  0  0  0]\n",
            " [ 0  0  2  4  0 72  0  0]\n",
            " [ 0  1  0  8  0  0 72  0]\n",
            " [ 0  1  0  1  0  0  1 66]]\n"
          ],
          "name": "stdout"
        }
      ]
    },
    {
      "cell_type": "code",
      "metadata": {
        "id": "1rel4w2_qLSt",
        "colab_type": "code",
        "colab": {
          "base_uri": "https://localhost:8080/",
          "height": 319
        },
        "outputId": "c18aac0c-acf7-4997-a4d3-ed2d393fd363"
      },
      "source": [
        "from sklearn.metrics import classification_report\n",
        "print('\\nClassification Report\\n')\n",
        "print(classification_report(labels_test, y2_pred, target_names=['femail', 'films', 'health','lifestyle','sport','technology','travel','tvshowbiz']))"
      ],
      "execution_count": 30,
      "outputs": [
        {
          "output_type": "stream",
          "text": [
            "\n",
            "Classification Report\n",
            "\n",
            "              precision    recall  f1-score   support\n",
            "\n",
            "      femail       0.84      0.37      0.52        86\n",
            "       films       0.94      0.83      0.88        76\n",
            "      health       0.87      0.43      0.57        61\n",
            "   lifestyle       0.44      0.96      0.60        71\n",
            "       sport       1.00      0.98      0.99        54\n",
            "  technology       0.96      0.92      0.94        78\n",
            "      travel       0.94      0.89      0.91        81\n",
            "   tvshowbiz       0.80      0.96      0.87        69\n",
            "\n",
            "    accuracy                           0.78       576\n",
            "   macro avg       0.85      0.79      0.79       576\n",
            "weighted avg       0.85      0.78      0.78       576\n",
            "\n"
          ],
          "name": "stdout"
        }
      ]
    },
    {
      "cell_type": "markdown",
      "metadata": {
        "id": "D92IUA2Dnnbh",
        "colab_type": "text"
      },
      "source": [
        "Model Logistic Regression"
      ]
    },
    {
      "cell_type": "code",
      "metadata": {
        "id": "w8SLTnKoqGB1",
        "colab_type": "code",
        "colab": {
          "base_uri": "https://localhost:8080/",
          "height": 168
        },
        "outputId": "65100154-196e-4139-c3fc-dae36e7a6300"
      },
      "source": [
        "confusion = confusion_matrix(labels_test, y3_pred)\n",
        "print('Confusion Matrix')\n",
        "print(confusion)"
      ],
      "execution_count": 31,
      "outputs": [
        {
          "output_type": "stream",
          "text": [
            "Confusion Matrix\n",
            "[[51  6  8  8  0  1  4  8]\n",
            " [ 3 69  1  0  0  0  1  2]\n",
            " [ 6  0 46  3  1  1  1  3]\n",
            " [ 3  0  7 56  1  2  1  1]\n",
            " [ 0  1  0  0 53  0  0  0]\n",
            " [ 0  0  1  1  0 76  0  0]\n",
            " [ 1  3  1  2  0  0 74  0]\n",
            " [ 0  2  0  1  0  0  1 65]]\n"
          ],
          "name": "stdout"
        }
      ]
    },
    {
      "cell_type": "code",
      "metadata": {
        "id": "LmQQ_y1wqLql",
        "colab_type": "code",
        "colab": {
          "base_uri": "https://localhost:8080/",
          "height": 319
        },
        "outputId": "987dd25a-6bf5-4b1a-bba7-ff9355e2299e"
      },
      "source": [
        "from sklearn.metrics import classification_report\n",
        "print('\\nClassification Report\\n')\n",
        "print(classification_report(labels_test, y3_pred, target_names=['femail', 'films', 'health','lifestyle','sport','technology','travel','tvshowbiz']))"
      ],
      "execution_count": 32,
      "outputs": [
        {
          "output_type": "stream",
          "text": [
            "\n",
            "Classification Report\n",
            "\n",
            "              precision    recall  f1-score   support\n",
            "\n",
            "      femail       0.80      0.59      0.68        86\n",
            "       films       0.85      0.91      0.88        76\n",
            "      health       0.72      0.75      0.74        61\n",
            "   lifestyle       0.79      0.79      0.79        71\n",
            "       sport       0.96      0.98      0.97        54\n",
            "  technology       0.95      0.97      0.96        78\n",
            "      travel       0.90      0.91      0.91        81\n",
            "   tvshowbiz       0.82      0.94      0.88        69\n",
            "\n",
            "    accuracy                           0.85       576\n",
            "   macro avg       0.85      0.86      0.85       576\n",
            "weighted avg       0.85      0.85      0.85       576\n",
            "\n"
          ],
          "name": "stdout"
        }
      ]
    },
    {
      "cell_type": "markdown",
      "metadata": {
        "id": "l6R5yEyN0BCd",
        "colab_type": "text"
      },
      "source": [
        "Qua các số liệu của từng model, ta thấy model LinearSVC có độ chính xác F1 score cao nhất"
      ]
    },
    {
      "cell_type": "markdown",
      "metadata": {
        "id": "USpUAICkqC43",
        "colab_type": "text"
      },
      "source": [
        "# Chương trình test với Model có độ chính xác cao nhất (LinearSVC)"
      ]
    },
    {
      "cell_type": "markdown",
      "metadata": {
        "id": "r2DwyEs3qGLn",
        "colab_type": "text"
      },
      "source": [
        "Nhập đoạn văn bản tiếng Anh muốn dự đoán"
      ]
    },
    {
      "cell_type": "code",
      "metadata": {
        "id": "mLaP0nTrpIPO",
        "colab_type": "code",
        "colab": {
          "base_uri": "https://localhost:8080/",
          "height": 70
        },
        "outputId": "7989ba98-f3ec-4ec7-e3ac-807865756f4f"
      },
      "source": [
        "print(\"Nhập văn bản: \")\n",
        "ch=(str(input()))"
      ],
      "execution_count": 33,
      "outputs": [
        {
          "output_type": "stream",
          "text": [
            "Nhap: \n",
            "APPLE is giving away a free pair of AirPods with every iPad or Mac purchase – and students who just got their uni acceptance offers can bag the deal.  To qualify, you'll need to be a university student, a parent of a student, or a staff member at a university, school or college.  Apple's AirPods are wireless earbuds that connect to your iPhone 3 Apple's AirPods are wireless earbuds that connect to your iPhoneCredit: Apple A pair of AirPods usually costs £159, so it's a cracking offer.  Apple's popular wireless earbuds will be bundled in with Mac or iPad purchases through Apple's Education Store here.  You also get 20% off AppleCare, if you're willing to fork out on the premium care plan.  The Apple AirPods were first released back in December 2018, and are the first wireless Bluetooth earbuds made by the company.  The earbuds are sleek and minimalistic, and can be controlled with just a tap 3 The earbuds are sleek and minimalistic, and can be controlled with just a tapCredit: Apple They're designed to be seriously simple to use.  For instance, they turn on and connect to your iPhone, Apple Watch, iPad or Mac as soon as you remove them from their charging case.  Your AirPods will last for around five hours per charge, and dumping them back in the case for 15 minutes should give you an extra three hours of listening time.  They've also got smart sensor tech – as soon as you put an AirPod in your ear, music will start playing.  And when you remove one, the music will pause, which is great for when someone wants to stop you for a chat.  You can also double-tap the AirPods to activate Siri, which lets you adjust the volume, change the song, make a call or get directions.  Apple AirPods – what you'll need Here's what you need to know... To use the AirPods, you'll need to make sure you have one of the following: iPhone with iOS 10 or later iPad with iOS 10 or later iPod Touch with iOS 10 or later Apple Watch with WatchOS 3 or later Mac with MacOS Sierra or later You'll also need to sign up for an iCloud account for the AirPods to work properly. The charging case keeps your AirPods topped up with power when they're not in use 3 The charging case keeps your AirPods topped up with power when they're not in useCredit: Apple There are several ways you can verify yourself as a student.  The first is to go via Apple.com, where you'll be redirected to the UNiDAYS website.  You can also call 0800 048 0408 to verify over the phone with your ID, or an acceptance offer.  It's possible to verify yourself over Apple.com live chat, or you can visit an Apple Store with your ID or acceptance letter in person.  The cheapest way to claim the offer is by buying the entry-level iPad, which starts at £349.  Apple's AirPods promo is running from July 9 through to October 29.  There's also an additional deal that lets students try Apple Music for free.  And then the price drops from £9.99 to £4.99 going forward – until you stop being a student.  Play Video  Bloke shows how to clean your AirPods in three easy steps using PlayDoh and it’s strangely satisfying MOST READ IN PHONES & GADGETS  GHOST FLIGHTDoomed flight that crashed in 1985 spotted on plane tracker 35 YEARS later  PAY DATECardi B joins OnlyFans and is charging £4 a month on X-rated subscription app  FIGHT NITEFortnite BANNED from iPhone and Android overnight as game maker launches lawsuit  THAT'S GOT YOUR TONGUEHorrifying parasite eats fish's TONGUE and lives in its mouth  FROZEN IN TIMEHaunting 'bog bodies' with slit throats found after thousands of years In other news, the secret design for Apple's next iPhone may have been revealed.  The iPhone 12 might be the first Apple mobile to ship with no charger or headphones in the box.  Apple recently released a new \"cheap\" version of its iPhone SE.\n"
          ],
          "name": "stdout"
        }
      ]
    },
    {
      "cell_type": "markdown",
      "metadata": {
        "id": "GsF33Yi4qV5G",
        "colab_type": "text"
      },
      "source": [
        "Xử lý dữ liệu được đưa vào"
      ]
    },
    {
      "cell_type": "code",
      "metadata": {
        "id": "2PQmF7lJpL9c",
        "colab_type": "code",
        "colab": {}
      },
      "source": [
        "ch = re.sub(r'[^a-zA-Z]',' ',ch)\n",
        "ch_tokens = word_tokenize(ch)\n",
        "ch_sentence = [w for w in ch_tokens if not w in stop_words]\n",
        "ch_val = tfIdfVec.transform([ch]).toarray()"
      ],
      "execution_count": 34,
      "outputs": []
    },
    {
      "cell_type": "markdown",
      "metadata": {
        "id": "QarRsBxTqY4Q",
        "colab_type": "text"
      },
      "source": [
        "Dự đoán chủ đề của văn bản đã nhập"
      ]
    },
    {
      "cell_type": "code",
      "metadata": {
        "id": "vtOR4qa2pN_n",
        "colab_type": "code",
        "colab": {}
      },
      "source": [
        "ch_pred=lsvc.predict(ch_val)"
      ],
      "execution_count": 35,
      "outputs": []
    },
    {
      "cell_type": "code",
      "metadata": {
        "id": "P3pMhLc_pPpF",
        "colab_type": "code",
        "colab": {
          "base_uri": "https://localhost:8080/",
          "height": 34
        },
        "outputId": "151ce9c4-44dd-4c27-dc65-fbda94cfeddd"
      },
      "source": [
        "if (ch_pred[0]==0):\n",
        "  print('femail')\n",
        "if (ch_pred[0]==1):\n",
        "  print('films')\n",
        "if (ch_pred[0]==2):\n",
        "  print('health')\n",
        "if (ch_pred[0]==3):\n",
        "  print('lifestyle')\n",
        "if (ch_pred[0]==4):\n",
        "  print('sport')\n",
        "if (ch_pred[0]==5):\n",
        "  print('technology')\n",
        "if (ch_pred[0]==6):\n",
        "  print('travel')\n",
        "if (ch_pred[0]==7):\n",
        "  print('tvshowbiz')"
      ],
      "execution_count": 36,
      "outputs": [
        {
          "output_type": "stream",
          "text": [
            "technology\n"
          ],
          "name": "stdout"
        }
      ]
    }
  ]
}