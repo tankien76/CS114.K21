{
  "nbformat": 4,
  "nbformat_minor": 0,
  "metadata": {
    "colab": {
      "name": "Sarcasm_headlines.ipynb",
      "provenance": [],
      "collapsed_sections": [],
      "mount_file_id": "1xmm8XsozaGq_khs_fcMBLay9_V38LNhw",
      "authorship_tag": "ABX9TyMQwmBOMVPs3AjX2NW4+SN7",
      "include_colab_link": true
    },
    "kernelspec": {
      "name": "python3",
      "display_name": "Python 3"
    }
  },
  "cells": [
    {
      "cell_type": "markdown",
      "metadata": {
        "id": "view-in-github",
        "colab_type": "text"
      },
      "source": [
        "<a href=\"https://colab.research.google.com/github/tankien76/CS114.K21/blob/master/Sarcasm_headlines.ipynb\" target=\"_parent\"><img src=\"https://colab.research.google.com/assets/colab-badge.svg\" alt=\"Open In Colab\"/></a>"
      ]
    },
    {
      "cell_type": "markdown",
      "metadata": {
        "id": "YQUC4lxrxk8B",
        "colab_type": "text"
      },
      "source": [
        "# Danh sách nhóm"
      ]
    },
    {
      "cell_type": "markdown",
      "metadata": {
        "id": "xZ9gJHqwxm6p",
        "colab_type": "text"
      },
      "source": [
        "- Đoàn Xuân Minh - MSSV: 18521093\n",
        "- Lê Trần Phúc Nguyên - MSSV: 18521157\n",
        "- Phan Quang Tấn - MSSV: 18521377"
      ]
    },
    {
      "cell_type": "markdown",
      "metadata": {
        "id": "e3MIpU6i_e9Q",
        "colab_type": "text"
      },
      "source": [
        "# Mô tả bài toán\n",
        "- Input: Các tiêu đề bài báo (headlines)\n",
        "- Output: Tiêu đề châm biếm hay không châm biếm"
      ]
    },
    {
      "cell_type": "markdown",
      "metadata": {
        "id": "TMVLtoABBq5W",
        "colab_type": "text"
      },
      "source": [
        "Code tham khảo: https://towardsdatascience.com/sarcasm-detection-step-towards-sentiment-analysis-84cb013bb6db\n",
        "                "
      ]
    },
    {
      "cell_type": "markdown",
      "metadata": {
        "id": "HCijI8lrCDH_",
        "colab_type": "text"
      },
      "source": [
        "Code tham khảo: https://pythonspot.com/nltk-stop-words/"
      ]
    },
    {
      "cell_type": "markdown",
      "metadata": {
        "id": "iReio6IZAvV7",
        "colab_type": "text"
      },
      "source": [
        "# Prepare dataset"
      ]
    },
    {
      "cell_type": "markdown",
      "metadata": {
        "id": "i0reXs66pX4Z",
        "colab_type": "text"
      },
      "source": [
        "Thu thập các đường link của bài báo(article_link), tiêu đề(headlines) sarcasm(is_sarcastic=1) từ trang https://www.theonion.com và not sarcasm(is_sarcastic=0) từ trang https://www.huffingtonpost.com"
      ]
    },
    {
      "cell_type": "markdown",
      "metadata": {
        "id": "QNblshVhqyEs",
        "colab_type": "text"
      },
      "source": [
        "Upload file kaggle.json để lấy dữ liệu từ kaggle"
      ]
    },
    {
      "cell_type": "code",
      "metadata": {
        "id": "eWwZtcKOUY2d",
        "colab_type": "code",
        "colab": {
          "resources": {
            "http://localhost:8080/nbextensions/google.colab/files.js": {
              "data": "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",
              "ok": true,
              "headers": [
                [
                  "content-type",
                  "application/javascript"
                ]
              ],
              "status": 200,
              "status_text": ""
            }
          },
          "base_uri": "https://localhost:8080/",
          "height": 73
        },
        "outputId": "de88ddbd-c45b-4479-8dab-dd5109e4189d"
      },
      "source": [
        "from google.colab import files\n",
        "uploaded = files.upload()"
      ],
      "execution_count": 1,
      "outputs": [
        {
          "output_type": "display_data",
          "data": {
            "text/html": [
              "\n",
              "     <input type=\"file\" id=\"files-5758bfe7-8b4e-4136-af18-899c1e11f386\" name=\"files[]\" multiple disabled\n",
              "        style=\"border:none\" />\n",
              "     <output id=\"result-5758bfe7-8b4e-4136-af18-899c1e11f386\">\n",
              "      Upload widget is only available when the cell has been executed in the\n",
              "      current browser session. Please rerun this cell to enable.\n",
              "      </output>\n",
              "      <script src=\"/nbextensions/google.colab/files.js\"></script> "
            ],
            "text/plain": [
              "<IPython.core.display.HTML object>"
            ]
          },
          "metadata": {
            "tags": []
          }
        },
        {
          "output_type": "stream",
          "text": [
            "Saving kaggle.json to kaggle.json\n"
          ],
          "name": "stdout"
        }
      ]
    },
    {
      "cell_type": "markdown",
      "metadata": {
        "id": "V00O1RPponWk",
        "colab_type": "text"
      },
      "source": [
        "Tải dữ liệu về từ kaggle và giải nén để lấy dataset từ trang web kaggle (https://www.kaggle.com/rmisra/news-headlines-dataset-for-sarcasm-detection)"
      ]
    },
    {
      "cell_type": "code",
      "metadata": {
        "id": "Vu4_IR7TUB84",
        "colab_type": "code",
        "colab": {
          "base_uri": "https://localhost:8080/",
          "height": 34
        },
        "outputId": "1d8607cc-aef6-4eac-f282-729aeb21798c"
      },
      "source": [
        "!ls -lha kaggle.json\n",
        "!mkdir -p ~/.kaggle\n",
        "!cp kaggle.json ~/.kaggle/\n",
        "!chmod 600 ~/.kaggle/kaggle.json"
      ],
      "execution_count": 2,
      "outputs": [
        {
          "output_type": "stream",
          "text": [
            "-rw-r--r-- 1 root root 68 Jun 26 13:29 kaggle.json\n"
          ],
          "name": "stdout"
        }
      ]
    },
    {
      "cell_type": "code",
      "metadata": {
        "id": "9YexbhmsUEWA",
        "colab_type": "code",
        "colab": {
          "base_uri": "https://localhost:8080/",
          "height": 67
        },
        "outputId": "0b889554-2a02-41d7-d679-488df4d3996e"
      },
      "source": [
        "!kaggle datasets download -d rmisra/news-headlines-dataset-for-sarcasm-detection"
      ],
      "execution_count": 3,
      "outputs": [
        {
          "output_type": "stream",
          "text": [
            "Downloading news-headlines-dataset-for-sarcasm-detection.zip to /content\n",
            "\r  0% 0.00/3.30M [00:00<?, ?B/s]\n",
            "\r100% 3.30M/3.30M [00:00<00:00, 54.3MB/s]\n"
          ],
          "name": "stdout"
        }
      ]
    },
    {
      "cell_type": "code",
      "metadata": {
        "id": "eZfnADruVE_a",
        "colab_type": "code",
        "colab": {
          "base_uri": "https://localhost:8080/",
          "height": 67
        },
        "outputId": "ba539475-941a-430c-e53b-efd85b8f2726"
      },
      "source": [
        "!unzip news-headlines-dataset-for-sarcasm-detection.zip"
      ],
      "execution_count": 4,
      "outputs": [
        {
          "output_type": "stream",
          "text": [
            "Archive:  news-headlines-dataset-for-sarcasm-detection.zip\n",
            "  inflating: Sarcasm_Headlines_Dataset.json  \n",
            "  inflating: Sarcasm_Headlines_Dataset_v2.json  \n"
          ],
          "name": "stdout"
        }
      ]
    },
    {
      "cell_type": "markdown",
      "metadata": {
        "id": "2D8U8ypedJkY",
        "colab_type": "text"
      },
      "source": [
        "# Feature engineering\n",
        "Tiến hành xử lý dữ liệu(headline) :\n",
        "- Loại bỏ các ký tự đặc biệt(dấu câu, số)\n",
        "- Loại bỏ các stopword"
      ]
    },
    {
      "cell_type": "markdown",
      "metadata": {
        "id": "npcP_ybjdYvt",
        "colab_type": "text"
      },
      "source": [
        "download punkt trong thư viện nltk để tách từ khi xử lý dữ liệu"
      ]
    },
    {
      "cell_type": "code",
      "metadata": {
        "id": "ofdZh0VmGi7k",
        "colab_type": "code",
        "colab": {
          "base_uri": "https://localhost:8080/",
          "height": 67
        },
        "outputId": "f4556034-15f8-4514-a66e-9b9269155a33"
      },
      "source": [
        "import nltk\n",
        "nltk.download('punkt')"
      ],
      "execution_count": 5,
      "outputs": [
        {
          "output_type": "stream",
          "text": [
            "[nltk_data] Downloading package punkt to /root/nltk_data...\n",
            "[nltk_data]   Unzipping tokenizers/punkt.zip.\n"
          ],
          "name": "stdout"
        },
        {
          "output_type": "execute_result",
          "data": {
            "text/plain": [
              "True"
            ]
          },
          "metadata": {
            "tags": []
          },
          "execution_count": 5
        }
      ]
    },
    {
      "cell_type": "markdown",
      "metadata": {
        "id": "kyRAiO0erhT1",
        "colab_type": "text"
      },
      "source": [
        "download stopwords trong thư viện nltk để xử lý các từ không cần thiết trong tiếng anh"
      ]
    },
    {
      "cell_type": "code",
      "metadata": {
        "id": "VdIYFu-hWqPg",
        "colab_type": "code",
        "colab": {
          "base_uri": "https://localhost:8080/",
          "height": 67
        },
        "outputId": "a150274d-12ba-4256-a0fa-8945623acd85"
      },
      "source": [
        "import nltk\n",
        "nltk.download('stopwords')"
      ],
      "execution_count": 6,
      "outputs": [
        {
          "output_type": "stream",
          "text": [
            "[nltk_data] Downloading package stopwords to /root/nltk_data...\n",
            "[nltk_data]   Unzipping corpora/stopwords.zip.\n"
          ],
          "name": "stdout"
        },
        {
          "output_type": "execute_result",
          "data": {
            "text/plain": [
              "True"
            ]
          },
          "metadata": {
            "tags": []
          },
          "execution_count": 6
        }
      ]
    },
    {
      "cell_type": "markdown",
      "metadata": {
        "id": "O3BYeWYZdrg9",
        "colab_type": "text"
      },
      "source": [
        "Import các thư viện sử dụng:\n",
        "- pandas : đọc dữ liệu file json\n",
        "- numpy : xử lý dữ liệu text\n",
        "- nltk : xử lý ngôn ngữ tự nhiên "
      ]
    },
    {
      "cell_type": "code",
      "metadata": {
        "id": "AiBa9uuyV-nH",
        "colab_type": "code",
        "colab": {}
      },
      "source": [
        "import pandas as pd, numpy as np, re\n",
        "from nltk.corpus import stopwords\n",
        "from nltk.tokenize import word_tokenize"
      ],
      "execution_count": 7,
      "outputs": []
    },
    {
      "cell_type": "markdown",
      "metadata": {
        "id": "YHsQb64pHdPp",
        "colab_type": "text"
      },
      "source": [
        "Đọc dữ liệu bằng thư viện pandas từ file Sarcasm_Headlines_Dataset_v2.json"
      ]
    },
    {
      "cell_type": "code",
      "metadata": {
        "id": "VynDT62JWWyQ",
        "colab_type": "code",
        "colab": {
          "base_uri": "https://localhost:8080/",
          "height": 195
        },
        "outputId": "3c16c43b-5fb1-4740-cf9f-72cfca4bfb02"
      },
      "source": [
        "# Loading data from json file\n",
        "data = pd.read_json(\"Sarcasm_Headlines_Dataset_v2.json\", lines = True)\n",
        "data.head()"
      ],
      "execution_count": 8,
      "outputs": [
        {
          "output_type": "execute_result",
          "data": {
            "text/html": [
              "<div>\n",
              "<style scoped>\n",
              "    .dataframe tbody tr th:only-of-type {\n",
              "        vertical-align: middle;\n",
              "    }\n",
              "\n",
              "    .dataframe tbody tr th {\n",
              "        vertical-align: top;\n",
              "    }\n",
              "\n",
              "    .dataframe thead th {\n",
              "        text-align: right;\n",
              "    }\n",
              "</style>\n",
              "<table border=\"1\" class=\"dataframe\">\n",
              "  <thead>\n",
              "    <tr style=\"text-align: right;\">\n",
              "      <th></th>\n",
              "      <th>is_sarcastic</th>\n",
              "      <th>headline</th>\n",
              "      <th>article_link</th>\n",
              "    </tr>\n",
              "  </thead>\n",
              "  <tbody>\n",
              "    <tr>\n",
              "      <th>0</th>\n",
              "      <td>1</td>\n",
              "      <td>thirtysomething scientists unveil doomsday clo...</td>\n",
              "      <td>https://www.theonion.com/thirtysomething-scien...</td>\n",
              "    </tr>\n",
              "    <tr>\n",
              "      <th>1</th>\n",
              "      <td>0</td>\n",
              "      <td>dem rep. totally nails why congress is falling...</td>\n",
              "      <td>https://www.huffingtonpost.com/entry/donna-edw...</td>\n",
              "    </tr>\n",
              "    <tr>\n",
              "      <th>2</th>\n",
              "      <td>0</td>\n",
              "      <td>eat your veggies: 9 deliciously different recipes</td>\n",
              "      <td>https://www.huffingtonpost.com/entry/eat-your-...</td>\n",
              "    </tr>\n",
              "    <tr>\n",
              "      <th>3</th>\n",
              "      <td>1</td>\n",
              "      <td>inclement weather prevents liar from getting t...</td>\n",
              "      <td>https://local.theonion.com/inclement-weather-p...</td>\n",
              "    </tr>\n",
              "    <tr>\n",
              "      <th>4</th>\n",
              "      <td>1</td>\n",
              "      <td>mother comes pretty close to using word 'strea...</td>\n",
              "      <td>https://www.theonion.com/mother-comes-pretty-c...</td>\n",
              "    </tr>\n",
              "  </tbody>\n",
              "</table>\n",
              "</div>"
            ],
            "text/plain": [
              "   is_sarcastic  ...                                       article_link\n",
              "0             1  ...  https://www.theonion.com/thirtysomething-scien...\n",
              "1             0  ...  https://www.huffingtonpost.com/entry/donna-edw...\n",
              "2             0  ...  https://www.huffingtonpost.com/entry/eat-your-...\n",
              "3             1  ...  https://local.theonion.com/inclement-weather-p...\n",
              "4             1  ...  https://www.theonion.com/mother-comes-pretty-c...\n",
              "\n",
              "[5 rows x 3 columns]"
            ]
          },
          "metadata": {
            "tags": []
          },
          "execution_count": 8
        }
      ]
    },
    {
      "cell_type": "markdown",
      "metadata": {
        "id": "YyPWykaJIIaX",
        "colab_type": "text"
      },
      "source": [
        "Đưa dữ liệu headline và labels vào list tương ứng"
      ]
    },
    {
      "cell_type": "code",
      "metadata": {
        "id": "W4moVlFdWaU5",
        "colab_type": "code",
        "colab": {}
      },
      "source": [
        "features = data['headline']\n",
        "labels = data['is_sarcastic']"
      ],
      "execution_count": 9,
      "outputs": []
    },
    {
      "cell_type": "markdown",
      "metadata": {
        "id": "H87Oo845V1yT",
        "colab_type": "text"
      },
      "source": [
        "Loại bỏ các ký tự đặc biệt, số và các từ không cần thiết trong headline để chuyển hóa thành vector vì .fit không thực hiện khi dữ liệu là string"
      ]
    },
    {
      "cell_type": "code",
      "metadata": {
        "id": "esMiO4huV_1I",
        "colab_type": "code",
        "colab": {}
      },
      "source": [
        "features = features.apply(lambda s : re.sub('[^a-zA-Z]', ' ', s))"
      ],
      "execution_count": 10,
      "outputs": []
    },
    {
      "cell_type": "code",
      "metadata": {
        "id": "q5zZuWlqFW30",
        "colab_type": "code",
        "colab": {}
      },
      "source": [
        "stop_words = set(stopwords.words('english'))\n",
        "for i in range (len(features)):\n",
        "  word_tokens = word_tokenize(features[i])\n",
        "\n",
        "  filtered_sentence = [w for w in word_tokens if not w in stop_words]\n",
        "\n",
        "  filtered_sentence = []\n",
        "\n",
        "  for w in word_tokens:\n",
        "      if w not in stop_words:\n",
        "          filtered_sentence.append(w)"
      ],
      "execution_count": 11,
      "outputs": []
    },
    {
      "cell_type": "markdown",
      "metadata": {
        "id": "15_Oh5ayWtpF",
        "colab_type": "text"
      },
      "source": [
        "Vector hóa dữ liệu văn bản bằng TF-IDF với max_feature = 5000 (dùng để tranh ngốn ram của máy):\n",
        "- TF: tần suất xuất hiện của 1 từ trong 1 văn bản\n",
        "- IDF: tần suất nghịch của 1 từ trong 1 tập văn bản\n",
        "- .fit: Máy học từ vựng và tính toán idf( tần suất nghịch của 1 từ trong tập các văn bản) của train set.\n"
      ]
    },
    {
      "cell_type": "code",
      "metadata": {
        "id": "yApR9V3eWiJf",
        "colab_type": "code",
        "colab": {
          "base_uri": "https://localhost:8080/",
          "height": 134
        },
        "outputId": "c3aa9075-28a3-43bd-8fb3-3deca67613f4"
      },
      "source": [
        "from sklearn.feature_extraction.text import TfidfVectorizer\n",
        "tfIdfVec = TfidfVectorizer(max_features = 5000)\n",
        "tfIdfVec.fit(features)"
      ],
      "execution_count": 12,
      "outputs": [
        {
          "output_type": "execute_result",
          "data": {
            "text/plain": [
              "TfidfVectorizer(analyzer='word', binary=False, decode_error='strict',\n",
              "                dtype=<class 'numpy.float64'>, encoding='utf-8',\n",
              "                input='content', lowercase=True, max_df=1.0, max_features=5000,\n",
              "                min_df=1, ngram_range=(1, 1), norm='l2', preprocessor=None,\n",
              "                smooth_idf=True, stop_words=None, strip_accents=None,\n",
              "                sublinear_tf=False, token_pattern='(?u)\\\\b\\\\w\\\\w+\\\\b',\n",
              "                tokenizer=None, use_idf=True, vocabulary=None)"
            ]
          },
          "metadata": {
            "tags": []
          },
          "execution_count": 12
        }
      ]
    },
    {
      "cell_type": "markdown",
      "metadata": {
        "id": "fvaa7Yvdm6iu",
        "colab_type": "text"
      },
      "source": [
        "Đưa dữ liệu headlines về matrix để training model"
      ]
    },
    {
      "cell_type": "code",
      "metadata": {
        "id": "hF-2kZEtdUlI",
        "colab_type": "code",
        "colab": {}
      },
      "source": [
        "tf_idf_x = tfIdfVec.transform(features)"
      ],
      "execution_count": 13,
      "outputs": []
    },
    {
      "cell_type": "markdown",
      "metadata": {
        "id": "fsMfAImdoFRY",
        "colab_type": "text"
      },
      "source": [
        " Tiến hành chia dữ liệu train và test: theo tỉ lệ 90% training và 10% testing vì khi thực hiện theo tỉ lệ 80/20 hoặc 70/30 thì độ chính xác của các thuật toán giảm"
      ]
    },
    {
      "cell_type": "code",
      "metadata": {
        "id": "qYRz_4q5Wz4v",
        "colab_type": "code",
        "colab": {}
      },
      "source": [
        "from sklearn.model_selection import train_test_split\n",
        "features_train, features_test, labels_train, labels_test = train_test_split(tf_idf_x.toarray(), labels, test_size = .1, random_state = 0)"
      ],
      "execution_count": 14,
      "outputs": []
    },
    {
      "cell_type": "markdown",
      "metadata": {
        "id": "at6V6af-qE3_",
        "colab_type": "text"
      },
      "source": [
        "# Model"
      ]
    },
    {
      "cell_type": "markdown",
      "metadata": {
        "id": "qm1ayQld-xnd",
        "colab_type": "text"
      },
      "source": [
        "Thêm thư viện sklearn gồm :\n",
        "- Các model sử dụng : LinearSVC, Gaussian Naive Bayes, Logistic Regresstion, Random Forest\n",
        "- train_test_split: để chia dữ liệu trong dataset thành train set vầ test set"
      ]
    },
    {
      "cell_type": "code",
      "metadata": {
        "id": "l9zLiRgV-vEr",
        "colab_type": "code",
        "colab": {}
      },
      "source": [
        "from sklearn.svm import LinearSVC\n",
        "from sklearn.naive_bayes import GaussianNB\n",
        "from sklearn.linear_model import LogisticRegression\n",
        "from sklearn.ensemble import RandomForestClassifier"
      ],
      "execution_count": 15,
      "outputs": []
    },
    {
      "cell_type": "markdown",
      "metadata": {
        "id": "4GTg5Ce_wrZ7",
        "colab_type": "text"
      },
      "source": [
        "Model Linear Support Vector Classifier"
      ]
    },
    {
      "cell_type": "code",
      "metadata": {
        "id": "HJN-cfgLW1Sp",
        "colab_type": "code",
        "colab": {
          "base_uri": "https://localhost:8080/",
          "height": 50
        },
        "outputId": "8d88e9be-f5a3-48a0-90ed-aaad545796b1"
      },
      "source": [
        "lsvc = LinearSVC()\n",
        "lsvc.fit(features_train, labels_train)\n",
        "print(\"train accuracy: \",lsvc.score(features_train, labels_train))\n",
        "print(\"Test accuracy: \",lsvc.score(features_test, labels_test))"
      ],
      "execution_count": 16,
      "outputs": [
        {
          "output_type": "stream",
          "text": [
            "train accuracy:  0.9129945257599876\n",
            "Test accuracy:  0.8424178895877009\n"
          ],
          "name": "stdout"
        }
      ]
    },
    {
      "cell_type": "markdown",
      "metadata": {
        "id": "XU6UCGL8w2gV",
        "colab_type": "text"
      },
      "source": [
        "Model Gaussian Naive Bayes"
      ]
    },
    {
      "cell_type": "code",
      "metadata": {
        "id": "4QlsuAbtZq1B",
        "colab_type": "code",
        "colab": {
          "base_uri": "https://localhost:8080/",
          "height": 50
        },
        "outputId": "7566a320-5d5e-4399-8ca3-d8515da633e1"
      },
      "source": [
        "gnb = GaussianNB()\n",
        "gnb.fit(features_train, labels_train)\n",
        "print(\"train accuracy: \",gnb.score(features_train, labels_train))\n",
        "print(\"Test accuracy: \",gnb.score(features_test, labels_test))"
      ],
      "execution_count": 17,
      "outputs": [
        {
          "output_type": "stream",
          "text": [
            "train accuracy:  0.8177971036999651\n",
            "Test accuracy:  0.7578616352201258\n"
          ],
          "name": "stdout"
        }
      ]
    },
    {
      "cell_type": "markdown",
      "metadata": {
        "id": "7osWLY9rxdac",
        "colab_type": "text"
      },
      "source": [
        "Model Logistic Regression"
      ]
    },
    {
      "cell_type": "code",
      "metadata": {
        "id": "pdLGJ5C-ZtYl",
        "colab_type": "code",
        "colab": {
          "base_uri": "https://localhost:8080/",
          "height": 50
        },
        "outputId": "da781211-78e5-49b9-e60e-948efa85d436"
      },
      "source": [
        "lr = LogisticRegression()\n",
        "lr.fit(features_train, labels_train)\n",
        "print(\"train accuracy: \",lr.score(features_train, labels_train))\n",
        "print(\"Test accuracy: \",lr.score(features_test, labels_test))"
      ],
      "execution_count": 18,
      "outputs": [
        {
          "output_type": "stream",
          "text": [
            "train accuracy:  0.8834103350545482\n",
            "Test accuracy:  0.8452131376659678\n"
          ],
          "name": "stdout"
        }
      ]
    },
    {
      "cell_type": "markdown",
      "metadata": {
        "id": "WSbbH2ZGxhQ6",
        "colab_type": "text"
      },
      "source": [
        "Model Random Forest Classifier"
      ]
    },
    {
      "cell_type": "code",
      "metadata": {
        "id": "aNquYQKLZw__",
        "colab_type": "code",
        "colab": {
          "base_uri": "https://localhost:8080/",
          "height": 50
        },
        "outputId": "da06f1da-d266-4469-98e8-b917b0a47042"
      },
      "source": [
        "rfc = RandomForestClassifier(n_estimators = 10, random_state = 0)\n",
        "rfc.fit(features_train, labels_train)\n",
        "print(\"train accuracy: \",rfc.score(features_train, labels_train))\n",
        "print(\"Test accuracy: \",rfc.score(features_test, labels_test))"
      ],
      "execution_count": 19,
      "outputs": [
        {
          "output_type": "stream",
          "text": [
            "train accuracy:  0.9894397639476648\n",
            "Test accuracy:  0.7917540181691125\n"
          ],
          "name": "stdout"
        }
      ]
    },
    {
      "cell_type": "markdown",
      "metadata": {
        "id": "bwkH8FPPAE78",
        "colab_type": "text"
      },
      "source": [
        "=> Sau khi training và đánh giá model thông qua accuracy score, ta thấy Model Logistic Regression đạt được độ chính xác cao nhất"
      ]
    },
    {
      "cell_type": "markdown",
      "metadata": {
        "id": "muvfXOXiMc3B",
        "colab_type": "text"
      },
      "source": [
        "# Đánh giá các Model"
      ]
    },
    {
      "cell_type": "markdown",
      "metadata": {
        "id": "cQ09_mr8Mkg5",
        "colab_type": "text"
      },
      "source": [
        "Tuy nhiên để đánh giá performance của các model thì cách tính bằng model.score không phản ánh chính xác dữ liệu được phân loại như thê nào vì vậy chúng ta cần 1 cách tính độ chính xác khác đó là **F1 Score**"
      ]
    },
    {
      "cell_type": "markdown",
      "metadata": {
        "id": "JWYK9SZ4OscH",
        "colab_type": "text"
      },
      "source": [
        "Vì bài toán sarcasm detection thuộc bài toán phân lớp có 2 lớp dữ liệu(sarcasm và not sarcasm) nên ta sử dụng cách đánh giá **True/False Positive/Negative** dựa trên confusion matrix trong thư viện scikit-learn "
      ]
    },
    {
      "cell_type": "markdown",
      "metadata": {
        "id": "2MlBjNBNNrzg",
        "colab_type": "text"
      },
      "source": [
        "**Precision** được định nghĩa là tỉ lệ số điểm true positive trong số những điểm được phân loại là positive\n",
        "\n",
        "Precision = TP/(TP+FP)\n",
        "Với : TP(True positive), FP(False positive)"
      ]
    },
    {
      "cell_type": "markdown",
      "metadata": {
        "id": "HX08GkELOdS4",
        "colab_type": "text"
      },
      "source": [
        "**Recall** được định nghĩa là tỉ lệ số điểm true positive trong số những điểm thực sự là positive\n",
        "\n",
        "Recall=TP/(TP+FN) Với TP(True positive), FN(False negative)"
      ]
    },
    {
      "cell_type": "markdown",
      "metadata": {
        "id": "03gYeV8lg6YC",
        "colab_type": "text"
      },
      "source": [
        "**F1-score**: trung bình điều hòa giữa **precision** và **recall**"
      ]
    },
    {
      "cell_type": "markdown",
      "metadata": {
        "id": "sgyDJmwMgkgN",
        "colab_type": "text"
      },
      "source": [
        "F1-score = 2*(precision*recall)/(precision+recall)"
      ]
    },
    {
      "cell_type": "code",
      "metadata": {
        "id": "fZmsMlgtiQl4",
        "colab_type": "code",
        "colab": {}
      },
      "source": [
        "from sklearn.metrics import confusion_matrix\n",
        "from sklearn.metrics import f1_score"
      ],
      "execution_count": 20,
      "outputs": []
    },
    {
      "cell_type": "markdown",
      "metadata": {
        "id": "BbpMrCCMiyXW",
        "colab_type": "text"
      },
      "source": [
        "Model Linear support classifier"
      ]
    },
    {
      "cell_type": "code",
      "metadata": {
        "id": "IsHm0Qujihqu",
        "colab_type": "code",
        "colab": {
          "base_uri": "https://localhost:8080/",
          "height": 34
        },
        "outputId": "1d638f8d-6fa1-4ada-e85a-e63db5041792"
      },
      "source": [
        "y_pred=lsvc.predict(features_test)\n",
        "f1 = f1_score(labels_test, y_pred, average='macro')\n",
        "print(\"F1 score: \",f1)"
      ],
      "execution_count": 21,
      "outputs": [
        {
          "output_type": "stream",
          "text": [
            "F1 score:  0.842135716647039\n"
          ],
          "name": "stdout"
        }
      ]
    },
    {
      "cell_type": "markdown",
      "metadata": {
        "id": "ocqA82GGi2kF",
        "colab_type": "text"
      },
      "source": [
        "Model Gaussian Naive Bayes"
      ]
    },
    {
      "cell_type": "code",
      "metadata": {
        "id": "_SKNW-yBi2Lb",
        "colab_type": "code",
        "colab": {
          "base_uri": "https://localhost:8080/",
          "height": 34
        },
        "outputId": "0c0571e1-92d6-4b3b-a206-df5deb85ef9c"
      },
      "source": [
        "y_pred=gnb.predict(features_test)\n",
        "f1 = f1_score(labels_test, y_pred, average='macro')\n",
        "print(\"F1 score: \",f1)"
      ],
      "execution_count": 22,
      "outputs": [
        {
          "output_type": "stream",
          "text": [
            "F1 score:  0.7574968610625399\n"
          ],
          "name": "stdout"
        }
      ]
    },
    {
      "cell_type": "markdown",
      "metadata": {
        "id": "Xk9sCbPrjNRj",
        "colab_type": "text"
      },
      "source": [
        "Model Logistic Regression"
      ]
    },
    {
      "cell_type": "code",
      "metadata": {
        "id": "o3XRjBNGi3sO",
        "colab_type": "code",
        "colab": {
          "base_uri": "https://localhost:8080/",
          "height": 34
        },
        "outputId": "069080d1-be11-4b92-9f61-684eae329ea6"
      },
      "source": [
        "y_pred=lr.predict(features_test)\n",
        "f1 = f1_score(labels_test, y_pred, average='macro')\n",
        "print(\"F1 score: \",f1)"
      ],
      "execution_count": 23,
      "outputs": [
        {
          "output_type": "stream",
          "text": [
            "F1 score:  0.8449540224192296\n"
          ],
          "name": "stdout"
        }
      ]
    },
    {
      "cell_type": "markdown",
      "metadata": {
        "id": "i_xHDgwcjOso",
        "colab_type": "text"
      },
      "source": [
        "Model Random Forest Classifier"
      ]
    },
    {
      "cell_type": "code",
      "metadata": {
        "id": "3r2i5fNsi4GB",
        "colab_type": "code",
        "colab": {
          "base_uri": "https://localhost:8080/",
          "height": 34
        },
        "outputId": "77eeb3de-7601-477f-f288-3f47081fdde4"
      },
      "source": [
        "y_pred=rfc.predict(features_test)\n",
        "f1 = f1_score(labels_test, y_pred, average='macro')\n",
        "print(\"F1 score: \",f1)"
      ],
      "execution_count": 24,
      "outputs": [
        {
          "output_type": "stream",
          "text": [
            "F1 score:  0.791225496027812\n"
          ],
          "name": "stdout"
        }
      ]
    },
    {
      "cell_type": "markdown",
      "metadata": {
        "id": "2oAgWgutk1kh",
        "colab_type": "text"
      },
      "source": [
        "Sau khi tính được F1 score của từng model, ta thấy F1 score của model Logistic Regression.\n",
        "- Lý do model Logistic Regression có độ chính xác cao trong các model vì Logistic Regression phù hợp với bài toán classification với 2 class. \n",
        "- Các model khác có độ chính xác thấp hơn vì việc xử lý dữ liệu chưa được hoàn chỉnh cũng như độ phù hợp của bài toán."
      ]
    },
    {
      "cell_type": "markdown",
      "metadata": {
        "id": "y5O_hixZxmxe",
        "colab_type": "text"
      },
      "source": [
        "# Crawl 2000 data mới"
      ]
    },
    {
      "cell_type": "markdown",
      "metadata": {
        "id": "DXE3uIOl5-wc",
        "colab_type": "text"
      },
      "source": [
        "Crawl data từ 2 trang web: https://www.theonion.com (tiêu đề châm biếm) và https://www.huffingtonpost.co.uk (tiêu đề không châm biếm) bằng cách sử dụng BeautifulSoup.\n",
        "- Thư viện Request: dùng đề gửi yêu cầu đến url. \n",
        "- Thư viện BeautifulSoup: dùng để lấy dữ liệu từ html(cụ thể ở đây là headline và article_link của từng bài viết)."
      ]
    },
    {
      "cell_type": "code",
      "metadata": {
        "id": "JZcIRXLo0JHt",
        "colab_type": "code",
        "colab": {}
      },
      "source": [
        "import requests\n",
        "from bs4 import BeautifulSoup"
      ],
      "execution_count": 25,
      "outputs": []
    },
    {
      "cell_type": "markdown",
      "metadata": {
        "id": "VB3MYV586TsF",
        "colab_type": "text"
      },
      "source": [
        "Thu thập từ dữ liệu từ hai mục News in brief và News in Photos của trang https://www.theonion.com và đưa dữ liệu vào file dataset.json."
      ]
    },
    {
      "cell_type": "code",
      "metadata": {
        "id": "Kne3aPyk0OHS",
        "colab_type": "code",
        "colab": {}
      },
      "source": [
        "# Đường link đến hai mục của trang Theonion\n",
        "url = ['https://www.theonion.com/c/news-in-brief', 'https://www.theonion.com/c/news-in-photos']\n",
        "# Mở file để ghi thêm vào cuối file, nếu không tìm thấy file sẽ tạo mới một file để ghi mới trong drive.\n",
        "with open('dataset.json', 'a') as file:\n",
        "    # Vòng for để load hai đường link trong list url\n",
        "    for i in range(2):\n",
        "        url_1 = url[i]\n",
        "        url_2 = url_1\n",
        "        # Vòng for dùng để chuyển tiếp các trang web để lấy tiêu đề\n",
        "        for j in range(25):\n",
        "            # Gửi yêu cầu HTTP bằng request đến url_2.\n",
        "            r1 = requests.get(url_2)\n",
        "            # Truy cập r1 dưới dạng nhị phân.\n",
        "            coverpage = r1.content\n",
        "            # Thêm parser để phân tích HTML.\n",
        "            soup2 = BeautifulSoup(coverpage, 'html5lib')\n",
        "            # Phân tich HTML và tìm tất cả thẻ a, class_='sc-1out364-0 hMndXN js_link', đồng thời truy xuất đến text và href bên trong thẻ.\n",
        "            coverpage_news_1 = soup2.find_all('a', class_='sc-1out364-0 hMndXN js_link')\n",
        "  \n",
        "            t = 12 \n",
        "            # Vòng while để lấy tất cả tiêu đề và đường dẫn trong một trang web.\n",
        "            while(t <=50): \n",
        "                # Truy suất đường dẫn bài viết.\n",
        "                a = coverpage_news_1[t]['href']\n",
        "                # Truy suất tiêu đề bài viết\n",
        "                b = coverpage_news_1[t].get_text() \n",
        "   \n",
        "                # Ghi vào file.\n",
        "                file.write('{\"is_sarcastic\": 1, \"headline\": \"') \n",
        "                file.write(b)\n",
        "                file.write('\", \"article_link\": \"')\n",
        "                file.write(a)\n",
        "                file.write('\"}\\n')\n",
        "\n",
        "                t += 2\n",
        "                # Cập nhật trang web tiếp theo từ <a class=\"sc-1out364-0 hMndXN js_link\" href=\"?startTime=1592485200501\"> để tiếp tục lấy tiêu đề.\n",
        "                url_2 = url_1 + coverpage_news_1[51]['href'] \n",
        "    file.close()"
      ],
      "execution_count": 26,
      "outputs": []
    },
    {
      "cell_type": "markdown",
      "metadata": {
        "id": "RulQEaeB6Zdr",
        "colab_type": "text"
      },
      "source": [
        "Thu thập dữ liệu từ hai mục News của trang https://www.huffingtonpost.co.uk và đưa dữ liệu vào file dataset.json"
      ]
    },
    {
      "cell_type": "code",
      "metadata": {
        "id": "OEFGcXTG5QO9",
        "colab_type": "code",
        "colab": {}
      },
      "source": [
        "from urllib.request import Request , urlopen \n",
        "Data = []\n",
        "with open('dataset.json', 'a') as file:\n",
        "\n",
        "  # Biến count dùng để crawl số tiêu đề cần thiết.\n",
        "  count = 1\n",
        "  # Vòng for dùng để chuyển tiếp các trang web để lấy tiêu đề\n",
        "  for i in range(1,34):  \n",
        "\n",
        "    # Định dạng lại đường đẫn các trang chứa tiêu đề trong phần news tương ướng với i.\n",
        "    url1 = 'https://www.huffingtonpost.co.uk/news/'+ str(i) +'/?guccounter=2'\n",
        "    # gửi request HTTP 1.1 đến url với header tự chỉnh \n",
        "    req = Request(url1, headers={'User-Agent': 'XYZ/3.0'}) \n",
        "    # Mở đường dẫn\n",
        "    page = urlopen(req,timeout=20) \n",
        "    # Thêm parser để phân tích HTML\n",
        "    soup = BeautifulSoup(page,\"html.parser\")\n",
        "     # Phân tich HTML và tìm tất cả thẻ a, class_='sc-1out364-0 hMndXN js_link', đồng thời truy xuất đến text và href bên trong thẻ.\n",
        "    headlines = soup.find_all('a',attrs={'class':'card__link yr-card-headline'})\n",
        "\n",
        "    # Vòng lặp dùng để lấy tiêu đề và đường dẫn bài viết.\n",
        "    for i in range(len(headlines)): \n",
        "      # Nếu đủ 1000 tiêu đề thì dùng lại.\n",
        "      if (count > 1000):\n",
        "        break\n",
        "      # Lấy tiêu đề bài viết.\n",
        "      headline = headlines[i].text\n",
        "      # Kiểm tra nếu tiêu đề đã được tải thì không tải lại.\n",
        "      if headline not in Data:\n",
        "        Data.append(headline)\n",
        "        # Lấy đường dẫn bài viết.\n",
        "        link = 'https://www.huffingtonpost.co.uk' + headlines[i]['href']\n",
        "        # Ghi vào file.\n",
        "        file.write('{\"is_sarcastic\": 0, \"headline\": \"') \n",
        "        file.write(headline)\n",
        "        file.write('\", \"article_link\": \"')\n",
        "        file.write(link)\n",
        "        file.write('\"}\\n')\n",
        "        count += 1\n",
        "  file.close()"
      ],
      "execution_count": 27,
      "outputs": []
    },
    {
      "cell_type": "markdown",
      "metadata": {
        "id": "pXenx4C2wMH0",
        "colab_type": "text"
      },
      "source": [
        "# Thực hiện dự đoán trên dataset mới"
      ]
    },
    {
      "cell_type": "markdown",
      "metadata": {
        "id": "KqYnMP_39VE2",
        "colab_type": "text"
      },
      "source": [
        "Đọc dữ liệu của dataset mới"
      ]
    },
    {
      "cell_type": "code",
      "metadata": {
        "id": "R43qj7AvW3qv",
        "colab_type": "code",
        "colab": {
          "base_uri": "https://localhost:8080/",
          "height": 195
        },
        "outputId": "e067c38a-0dfa-40ca-917c-295ed1fbad52"
      },
      "source": [
        "data1 = pd.read_json(\"dataset.json\", lines = True, encoding='utf-8' )\n",
        "data1.head()"
      ],
      "execution_count": 28,
      "outputs": [
        {
          "output_type": "execute_result",
          "data": {
            "text/html": [
              "<div>\n",
              "<style scoped>\n",
              "    .dataframe tbody tr th:only-of-type {\n",
              "        vertical-align: middle;\n",
              "    }\n",
              "\n",
              "    .dataframe tbody tr th {\n",
              "        vertical-align: top;\n",
              "    }\n",
              "\n",
              "    .dataframe thead th {\n",
              "        text-align: right;\n",
              "    }\n",
              "</style>\n",
              "<table border=\"1\" class=\"dataframe\">\n",
              "  <thead>\n",
              "    <tr style=\"text-align: right;\">\n",
              "      <th></th>\n",
              "      <th>is_sarcastic</th>\n",
              "      <th>headline</th>\n",
              "      <th>article_link</th>\n",
              "    </tr>\n",
              "  </thead>\n",
              "  <tbody>\n",
              "    <tr>\n",
              "      <th>0</th>\n",
              "      <td>1</td>\n",
              "      <td>Heaven Flush With Cash After Trump Administrat...</td>\n",
              "      <td>https://www.theonion.com/heaven-flush-with-cas...</td>\n",
              "    </tr>\n",
              "    <tr>\n",
              "      <th>1</th>\n",
              "      <td>1</td>\n",
              "      <td>Jilted Lover Keying Cheater’s Car Realizes She...</td>\n",
              "      <td>https://www.theonion.com/jilted-lover-keying-c...</td>\n",
              "    </tr>\n",
              "    <tr>\n",
              "      <th>2</th>\n",
              "      <td>1</td>\n",
              "      <td>Nancy Pelosi Calls Jamaal Bowman To Scold Him ...</td>\n",
              "      <td>https://politics.theonion.com/nancy-pelosi-cal...</td>\n",
              "    </tr>\n",
              "    <tr>\n",
              "      <th>3</th>\n",
              "      <td>1</td>\n",
              "      <td>Gamers, We Just Spent 4 Days Trapped In A Roll...</td>\n",
              "      <td>https://ogn.theonion.com/gamers-we-just-spent-...</td>\n",
              "    </tr>\n",
              "    <tr>\n",
              "      <th>4</th>\n",
              "      <td>1</td>\n",
              "      <td>Defiant Florida Officials Announce They Will I...</td>\n",
              "      <td>https://www.theonion.com/defiant-florida-offic...</td>\n",
              "    </tr>\n",
              "  </tbody>\n",
              "</table>\n",
              "</div>"
            ],
            "text/plain": [
              "   is_sarcastic  ...                                       article_link\n",
              "0             1  ...  https://www.theonion.com/heaven-flush-with-cas...\n",
              "1             1  ...  https://www.theonion.com/jilted-lover-keying-c...\n",
              "2             1  ...  https://politics.theonion.com/nancy-pelosi-cal...\n",
              "3             1  ...  https://ogn.theonion.com/gamers-we-just-spent-...\n",
              "4             1  ...  https://www.theonion.com/defiant-florida-offic...\n",
              "\n",
              "[5 rows x 3 columns]"
            ]
          },
          "metadata": {
            "tags": []
          },
          "execution_count": 28
        }
      ]
    },
    {
      "cell_type": "markdown",
      "metadata": {
        "id": "dV8punx29wJ1",
        "colab_type": "text"
      },
      "source": [
        "Đưa dữ liệu headlines và labels vào các biến tương ứng"
      ]
    },
    {
      "cell_type": "code",
      "metadata": {
        "id": "xsHhxbdkW4nY",
        "colab_type": "code",
        "colab": {}
      },
      "source": [
        "features_pred = data1['headline']\n",
        "labels_pred = data1['is_sarcastic']"
      ],
      "execution_count": 29,
      "outputs": []
    },
    {
      "cell_type": "markdown",
      "metadata": {
        "id": "8P1Fdr4z-HY2",
        "colab_type": "text"
      },
      "source": [
        "# Feature engineering new data"
      ]
    },
    {
      "cell_type": "markdown",
      "metadata": {
        "id": "qbDpKtXW-dFT",
        "colab_type": "text"
      },
      "source": [
        "Loại bỏ các ký tự đặc biệt và số trong headlines"
      ]
    },
    {
      "cell_type": "code",
      "metadata": {
        "id": "_dbI5KukGzTD",
        "colab_type": "code",
        "colab": {}
      },
      "source": [
        "# Relacing special symbols and digits in headline column\n",
        "# re stands for Regular Expression\n",
        "features_pred = features_pred.apply(lambda s : re.sub('[^a-zA-Z]', ' ', s))"
      ],
      "execution_count": 30,
      "outputs": []
    },
    {
      "cell_type": "markdown",
      "metadata": {
        "id": "Xo2Tpc56_SJ3",
        "colab_type": "text"
      },
      "source": [
        "Thực hiện tách từ và loại bỏ các stopwords trong headlines"
      ]
    },
    {
      "cell_type": "code",
      "metadata": {
        "id": "jQK2f2a8G4Bq",
        "colab_type": "code",
        "colab": {}
      },
      "source": [
        "stop_words = set(stopwords.words('english'))\n",
        "for i in range (len(features_pred)):\n",
        "  word_tokens = word_tokenize(features_pred[i])\n",
        "\n",
        "  filtered_sentence = [w for w in word_tokens if not w in stop_words]\n",
        "\n",
        "  filtered_sentence = []\n",
        "\n",
        "  for w in word_tokens:\n",
        "      if w not in stop_words:\n",
        "          filtered_sentence.append(w)"
      ],
      "execution_count": 31,
      "outputs": []
    },
    {
      "cell_type": "markdown",
      "metadata": {
        "id": "6oepFyPp_m_l",
        "colab_type": "text"
      },
      "source": [
        "Vector hóa dữ liệu văn bản\n",
        "tv1= tfidVec"
      ]
    },
    {
      "cell_type": "code",
      "metadata": {
        "id": "2L82W8REXcoY",
        "colab_type": "code",
        "colab": {}
      },
      "source": [
        "tv1 = tfIdfVec\n",
        "features_pred = tv1.transform(features_pred).toarray()"
      ],
      "execution_count": 32,
      "outputs": []
    },
    {
      "cell_type": "markdown",
      "metadata": {
        "id": "JRRwyjQm_u-r",
        "colab_type": "text"
      },
      "source": [
        "# Tiến hành dự đoán trên các model"
      ]
    },
    {
      "cell_type": "markdown",
      "metadata": {
        "id": "5rv2UOb7Hte2",
        "colab_type": "text"
      },
      "source": [
        "- Thông qua kết quả dự đoán với 2000 headlines mới, ta thấy performance giảm khi sử dụng model được train từ dữ liệu cũ. Lý do performance giảm vì trong dataset mới có các từ chưa từng xuất hiện trong train set và các từ mới xuất hiện hiện nay như(coronavirus,...)\n",
        "\n"
      ]
    },
    {
      "cell_type": "markdown",
      "metadata": {
        "id": "Ehlm8nBstn_U",
        "colab_type": "text"
      },
      "source": [
        "Model Linear support classifier"
      ]
    },
    {
      "cell_type": "code",
      "metadata": {
        "id": "mrSROT6GZ1tm",
        "colab_type": "code",
        "colab": {
          "base_uri": "https://localhost:8080/",
          "height": 34
        },
        "outputId": "2ba318af-ef2a-4d51-b21c-ba214dc2689e"
      },
      "source": [
        "print(\"Val accuracy: \",lsvc.score(features_pred, labels_pred))"
      ],
      "execution_count": 33,
      "outputs": [
        {
          "output_type": "stream",
          "text": [
            "Val accuracy:  0.772\n"
          ],
          "name": "stdout"
        }
      ]
    },
    {
      "cell_type": "markdown",
      "metadata": {
        "id": "JvdhfmYJtw55",
        "colab_type": "text"
      },
      "source": [
        "Model Gaussian Naive Bayes"
      ]
    },
    {
      "cell_type": "code",
      "metadata": {
        "id": "jwMv9xpfsMbc",
        "colab_type": "code",
        "colab": {
          "base_uri": "https://localhost:8080/",
          "height": 34
        },
        "outputId": "e31d8c87-79e2-4b5a-b500-17c25c50f3e7"
      },
      "source": [
        "print(\"Val accuracy: \",gnb.score(features_pred, labels_pred))"
      ],
      "execution_count": 34,
      "outputs": [
        {
          "output_type": "stream",
          "text": [
            "Val accuracy:  0.729\n"
          ],
          "name": "stdout"
        }
      ]
    },
    {
      "cell_type": "markdown",
      "metadata": {
        "id": "Au2Zu8Jqt5cB",
        "colab_type": "text"
      },
      "source": [
        "Model Logistic Regression"
      ]
    },
    {
      "cell_type": "code",
      "metadata": {
        "id": "LGgA-k8ssM25",
        "colab_type": "code",
        "colab": {
          "base_uri": "https://localhost:8080/",
          "height": 34
        },
        "outputId": "1b4d3367-e16b-47ed-f272-43ce46ff01ab"
      },
      "source": [
        "print(\"Val accuracy: \",lr.score(features_pred, labels_pred))"
      ],
      "execution_count": 35,
      "outputs": [
        {
          "output_type": "stream",
          "text": [
            "Val accuracy:  0.7715\n"
          ],
          "name": "stdout"
        }
      ]
    },
    {
      "cell_type": "markdown",
      "metadata": {
        "id": "d-pzpPzpt838",
        "colab_type": "text"
      },
      "source": [
        "Model Random Forest Classifier"
      ]
    },
    {
      "cell_type": "code",
      "metadata": {
        "id": "T9XhfQ8isNS6",
        "colab_type": "code",
        "colab": {
          "base_uri": "https://localhost:8080/",
          "height": 34
        },
        "outputId": "d28e31aa-f724-4775-fb37-3854ac836be5"
      },
      "source": [
        "print(\"Val accuracy: \",rfc.score(features_pred, labels_pred))"
      ],
      "execution_count": 36,
      "outputs": [
        {
          "output_type": "stream",
          "text": [
            "Val accuracy:  0.7555\n"
          ],
          "name": "stdout"
        }
      ]
    },
    {
      "cell_type": "markdown",
      "metadata": {
        "id": "7Wxt5sbtt_5R",
        "colab_type": "text"
      },
      "source": [
        "Qua các kết quả dự đoán với dataset mới, ta thấy hiện tượng overfitting xảy ra khi độ chính xác của các model giảm khá nhiều. Phương pháp giải quyết là tiến hành thêm các từ mới xuất hiện."
      ]
    },
    {
      "cell_type": "markdown",
      "metadata": {
        "id": "Q0XARg83A8fc",
        "colab_type": "text"
      },
      "source": [
        "# Chương trình Sarcasm Detection"
      ]
    },
    {
      "cell_type": "markdown",
      "metadata": {
        "id": "tu-U1RviBOxE",
        "colab_type": "text"
      },
      "source": [
        "Xử lý dữ liệu mới nhập vào"
      ]
    },
    {
      "cell_type": "code",
      "metadata": {
        "id": "a85nML1Jdtov",
        "colab_type": "code",
        "colab": {
          "base_uri": "https://localhost:8080/",
          "height": 50
        },
        "outputId": "290bb0ea-188c-4a80-e9b9-c527b08fd28a"
      },
      "source": [
        "print(\"Nhap tieu de: \")\n",
        "ch=(str(input()))\n",
        "ch = re.sub(r'[^a-zA-Z]',' ',ch)\n",
        "ch_tokens = word_tokenize(ch)\n",
        "ch_sentence = [w for w in ch_tokens if not w in stop_words]\n",
        "ch = \" \".join(ch)"
      ],
      "execution_count": 37,
      "outputs": [
        {
          "output_type": "stream",
          "text": [
            "Nhap tieu de: \n",
            "White House Announces Entire U.S. Populace Of 6,200 Attended Trump’s Tulsa Rally\n"
          ],
          "name": "stdout"
        }
      ]
    },
    {
      "cell_type": "markdown",
      "metadata": {
        "id": "4LJc1kAQBW-U",
        "colab_type": "text"
      },
      "source": [
        "Đưa dữ liệu về ma trận để dự đoán trên model logistic regression"
      ]
    },
    {
      "cell_type": "code",
      "metadata": {
        "id": "o2QH6zmmfAzT",
        "colab_type": "code",
        "colab": {}
      },
      "source": [
        "ch_val = tv1.transform([ch]).toarray()"
      ],
      "execution_count": 38,
      "outputs": []
    },
    {
      "cell_type": "code",
      "metadata": {
        "id": "IS4ATPP9fS3H",
        "colab_type": "code",
        "colab": {}
      },
      "source": [
        "ch_pred=lr.predict(ch_val)"
      ],
      "execution_count": 39,
      "outputs": []
    },
    {
      "cell_type": "markdown",
      "metadata": {
        "id": "LZ-tiv1eGB5I",
        "colab_type": "text"
      },
      "source": [
        "Sau khi tiến hành dự đoán 10 tiêu đề bất kỳ kết quả dự đoán: 4 đúng -  6 sai, lý do kết quả dự đoán sai vì có nhiều words chưa từng xuất hiện khi được train."
      ]
    },
    {
      "cell_type": "code",
      "metadata": {
        "id": "_m_w5Sx2fo4_",
        "colab_type": "code",
        "colab": {
          "base_uri": "https://localhost:8080/",
          "height": 34
        },
        "outputId": "47e7fdb3-6522-4df9-9548-ee24cfac583a"
      },
      "source": [
        "if(ch_pred==1):\n",
        "  print(\"sarcasm\")\n",
        "if(ch_pred==0):\n",
        "  print(\"not sarcasm\")"
      ],
      "execution_count": 40,
      "outputs": [
        {
          "output_type": "stream",
          "text": [
            "not sarcasm\n"
          ],
          "name": "stdout"
        }
      ]
    }
  ]
}