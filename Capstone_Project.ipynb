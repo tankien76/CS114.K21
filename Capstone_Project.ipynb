{
  "nbformat": 4,
  "nbformat_minor": 0,
  "metadata": {
    "colab": {
      "name": "Capstone Project.ipynb",
      "provenance": [],
      "collapsed_sections": [],
      "authorship_tag": "ABX9TyOVvzQ+L1x0GVH5WuHhWs4A",
      "include_colab_link": true
    },
    "kernelspec": {
      "name": "python3",
      "display_name": "Python 3"
    }
  },
  "cells": [
    {
      "cell_type": "markdown",
      "metadata": {
        "id": "view-in-github",
        "colab_type": "text"
      },
      "source": [
        "<a href=\"https://colab.research.google.com/github/tankien76/CS114.K21/blob/master/Capstone_Project.ipynb\" target=\"_parent\"><img src=\"https://colab.research.google.com/assets/colab-badge.svg\" alt=\"Open In Colab\"/></a>"
      ]
    },
    {
      "cell_type": "markdown",
      "metadata": {
        "id": "PxLauGJEGRTT",
        "colab_type": "text"
      },
      "source": [
        "# Danh sách nhóm\n",
        "- Đoàn Xuân Minh - MSSV: 18521093\n",
        "- Lê Trần Phúc Nguyên - MSSV: 18521157\n",
        "- Phan Quang Tấn - MSSV: 18521377\n"
      ]
    },
    {
      "cell_type": "markdown",
      "metadata": {
        "id": "dmZ9dSQ_G5Ce",
        "colab_type": "text"
      },
      "source": [
        "# Mô tả bài toán : Dự đoán chủ đề của một bài báo tiếng Anh\n",
        "- Input: Một đoạn văn bản của một bài báo tiếng Anh (article)\n",
        "- Output: Chủ đề của đoạn văn bản "
      ]
    },
    {
      "cell_type": "markdown",
      "metadata": {
        "id": "buiDkK7rHboO",
        "colab_type": "text"
      },
      "source": [
        "Code tham khảo: https://towardsdatascience.com/sarcasm-detection-step-towards-sentiment-analysis-84cb013bb6db"
      ]
    },
    {
      "cell_type": "markdown",
      "metadata": {
        "id": "tg3qbjf7HdSF",
        "colab_type": "text"
      },
      "source": [
        "Code tham khảo: https://pythonspot.com/nltk-stop-words/"
      ]
    },
    {
      "cell_type": "markdown",
      "metadata": {
        "id": "8WwK6DeaI7Fv",
        "colab_type": "text"
      },
      "source": [
        "# Prepare dataset"
      ]
    },
    {
      "cell_type": "markdown",
      "metadata": {
        "id": "vsnxtpb_I9cF",
        "colab_type": "text"
      },
      "source": [
        "Thực hiện cào dữ liệu (crawl data) từ các trang báo tiếng Anh nổi tiếng như : The Sun https://www.thesun.co.uk/ ,Dailymail https://www.dailymail.co.uk/home/index.html, Telepraph http://telegraph.co.uk/"
      ]
    },
    {
      "cell_type": "markdown",
      "metadata": {
        "id": "hWojIb1YMJMf",
        "colab_type": "text"
      },
      "source": [
        "Code Crawl : https://github.com/tankien76/CS114.K21/blob/master/CrawlerTest.ipynb"
      ]
    },
    {
      "cell_type": "markdown",
      "metadata": {
        "id": "2wBGcFSELVLY",
        "colab_type": "text"
      },
      "source": [
        "Tập dataset sau khi crawl gồm có hơn 2600 bài báo với 8 chủ đề khác nhau như : sport, tvshowbiz, femail,.... Mỗi chủ đề gồm có hơn 300 bài báo."
      ]
    },
    {
      "cell_type": "markdown",
      "metadata": {
        "id": "IIEnE2DIH_6L",
        "colab_type": "text"
      },
      "source": [
        "Xác thực và tạo ứng dụng PyDrive."
      ]
    },
    {
      "cell_type": "code",
      "metadata": {
        "id": "E6jjP_fsRRZY",
        "colab_type": "code",
        "colab": {
          "base_uri": "https://localhost:8080/",
          "height": 272
        },
        "outputId": "e41376b2-ad46-406d-f34d-30b3dfc5b564"
      },
      "source": [
        "!pip install PyDrive"
      ],
      "execution_count": null,
      "outputs": [
        {
          "output_type": "stream",
          "text": [
            "Requirement already satisfied: PyDrive in /usr/local/lib/python3.6/dist-packages (1.3.1)\n",
            "Requirement already satisfied: PyYAML>=3.0 in /usr/local/lib/python3.6/dist-packages (from PyDrive) (3.13)\n",
            "Requirement already satisfied: google-api-python-client>=1.2 in /usr/local/lib/python3.6/dist-packages (from PyDrive) (1.7.12)\n",
            "Requirement already satisfied: oauth2client>=4.0.0 in /usr/local/lib/python3.6/dist-packages (from PyDrive) (4.1.3)\n",
            "Requirement already satisfied: uritemplate<4dev,>=3.0.0 in /usr/local/lib/python3.6/dist-packages (from google-api-python-client>=1.2->PyDrive) (3.0.1)\n",
            "Requirement already satisfied: httplib2<1dev,>=0.17.0 in /usr/local/lib/python3.6/dist-packages (from google-api-python-client>=1.2->PyDrive) (0.17.4)\n",
            "Requirement already satisfied: google-auth-httplib2>=0.0.3 in /usr/local/lib/python3.6/dist-packages (from google-api-python-client>=1.2->PyDrive) (0.0.4)\n",
            "Requirement already satisfied: six<2dev,>=1.6.1 in /usr/local/lib/python3.6/dist-packages (from google-api-python-client>=1.2->PyDrive) (1.15.0)\n",
            "Requirement already satisfied: google-auth>=1.4.1 in /usr/local/lib/python3.6/dist-packages (from google-api-python-client>=1.2->PyDrive) (1.17.2)\n",
            "Requirement already satisfied: pyasn1-modules>=0.0.5 in /usr/local/lib/python3.6/dist-packages (from oauth2client>=4.0.0->PyDrive) (0.2.8)\n",
            "Requirement already satisfied: pyasn1>=0.1.7 in /usr/local/lib/python3.6/dist-packages (from oauth2client>=4.0.0->PyDrive) (0.4.8)\n",
            "Requirement already satisfied: rsa>=3.1.4 in /usr/local/lib/python3.6/dist-packages (from oauth2client>=4.0.0->PyDrive) (4.6)\n",
            "Requirement already satisfied: cachetools<5.0,>=2.0.0 in /usr/local/lib/python3.6/dist-packages (from google-auth>=1.4.1->google-api-python-client>=1.2->PyDrive) (4.1.1)\n",
            "Requirement already satisfied: setuptools>=40.3.0 in /usr/local/lib/python3.6/dist-packages (from google-auth>=1.4.1->google-api-python-client>=1.2->PyDrive) (49.2.0)\n"
          ],
          "name": "stdout"
        }
      ]
    },
    {
      "cell_type": "code",
      "metadata": {
        "id": "Bqy536FtRTxH",
        "colab_type": "code",
        "colab": {}
      },
      "source": [
        "from pydrive.auth import GoogleAuth\n",
        "from pydrive.drive import GoogleDrive\n",
        "from google.colab import auth\n",
        "from oauth2client.client import GoogleCredentials"
      ],
      "execution_count": null,
      "outputs": []
    },
    {
      "cell_type": "code",
      "metadata": {
        "id": "aESAzJW40pu1",
        "colab_type": "code",
        "colab": {}
      },
      "source": [
        "auth.authenticate_user()\n",
        "gauth = GoogleAuth()\n",
        "gauth.credentials = GoogleCredentials.get_application_default()\n",
        "drive = GoogleDrive(gauth)"
      ],
      "execution_count": null,
      "outputs": []
    },
    {
      "cell_type": "code",
      "metadata": {
        "id": "C0wGsF59RXmm",
        "colab_type": "code",
        "colab": {}
      },
      "source": [
        "downloaded = drive.CreateFile({'id':\"1o2zIVZBmqSJa8huDq_Nn8waeTksbH4KI\"})\n",
        "downloaded.GetContentFile('text_data.csv')"
      ],
      "execution_count": null,
      "outputs": []
    },
    {
      "cell_type": "markdown",
      "metadata": {
        "id": "4JIH9YF6VGst",
        "colab_type": "text"
      },
      "source": [
        "Import các thư viện:\n",
        "- pandas : đọc dữ liệu file json\n",
        "- numpy : xử lý dữ liệu text"
      ]
    },
    {
      "cell_type": "code",
      "metadata": {
        "id": "-moTwCWm4qpn",
        "colab_type": "code",
        "colab": {}
      },
      "source": [
        "import pandas as pd, numpy as np, re"
      ],
      "execution_count": null,
      "outputs": []
    },
    {
      "cell_type": "markdown",
      "metadata": {
        "id": "FafRyyQC8nF4",
        "colab_type": "text"
      },
      "source": [
        "Đọc dữ liệu bằng thư viện pandas từ file text_data.csv"
      ]
    },
    {
      "cell_type": "code",
      "metadata": {
        "id": "10y3eUQS4sNX",
        "colab_type": "code",
        "colab": {
          "base_uri": "https://localhost:8080/",
          "height": 195
        },
        "outputId": "9aa5e9b7-97df-4085-b77e-a4d947dd4809"
      },
      "source": [
        "dataset = pd.read_csv(\"text_data.csv\", encoding='ISO 8859-1')\n",
        "dataset.head()"
      ],
      "execution_count": null,
      "outputs": [
        {
          "output_type": "execute_result",
          "data": {
            "text/html": [
              "<div>\n",
              "<style scoped>\n",
              "    .dataframe tbody tr th:only-of-type {\n",
              "        vertical-align: middle;\n",
              "    }\n",
              "\n",
              "    .dataframe tbody tr th {\n",
              "        vertical-align: top;\n",
              "    }\n",
              "\n",
              "    .dataframe thead th {\n",
              "        text-align: right;\n",
              "    }\n",
              "</style>\n",
              "<table border=\"1\" class=\"dataframe\">\n",
              "  <thead>\n",
              "    <tr style=\"text-align: right;\">\n",
              "      <th></th>\n",
              "      <th>article</th>\n",
              "      <th>category</th>\n",
              "    </tr>\n",
              "  </thead>\n",
              "  <tbody>\n",
              "    <tr>\n",
              "      <th>0</th>\n",
              "      <td>PHOTOS of McDonalds restaurants and merchandis...</td>\n",
              "      <td>lifestyle</td>\n",
              "    </tr>\n",
              "    <tr>\n",
              "      <th>1</th>\n",
              "      <td>ARIESMarch 21 to April 20SATURN, the most powe...</td>\n",
              "      <td>lifestyle</td>\n",
              "    </tr>\n",
              "    <tr>\n",
              "      <th>2</th>\n",
              "      <td>BRITS are being tempted to fly abroad once loc...</td>\n",
              "      <td>lifestyle</td>\n",
              "    </tr>\n",
              "    <tr>\n",
              "      <th>3</th>\n",
              "      <td>DONNA Mitchell tried every fad diet in the boo...</td>\n",
              "      <td>lifestyle</td>\n",
              "    </tr>\n",
              "    <tr>\n",
              "      <th>4</th>\n",
              "      <td>FASHION fans can buy jeans and a sleeveless to...</td>\n",
              "      <td>lifestyle</td>\n",
              "    </tr>\n",
              "  </tbody>\n",
              "</table>\n",
              "</div>"
            ],
            "text/plain": [
              "                                             article   category\n",
              "0  PHOTOS of McDonalds restaurants and merchandis...  lifestyle\n",
              "1  ARIESMarch 21 to April 20SATURN, the most powe...  lifestyle\n",
              "2  BRITS are being tempted to fly abroad once loc...  lifestyle\n",
              "3  DONNA Mitchell tried every fad diet in the boo...  lifestyle\n",
              "4  FASHION fans can buy jeans and a sleeveless to...  lifestyle"
            ]
          },
          "metadata": {
            "tags": []
          },
          "execution_count": 6
        }
      ]
    },
    {
      "cell_type": "markdown",
      "metadata": {
        "id": "ExRkgG8qVqJ5",
        "colab_type": "text"
      },
      "source": [
        "Đưa dữ liệu article và category vào list tương ứng"
      ]
    },
    {
      "cell_type": "code",
      "metadata": {
        "id": "m7MEcUKZ5Lcg",
        "colab_type": "code",
        "colab": {}
      },
      "source": [
        "features = dataset['article']\n",
        "labels = dataset['category']"
      ],
      "execution_count": null,
      "outputs": []
    },
    {
      "cell_type": "markdown",
      "metadata": {
        "id": "yMylBoluVvaA",
        "colab_type": "text"
      },
      "source": [
        "Thực hiện chuyển đổi các nhãn dán thành số để dễ dàng thực hiện trong khi training và test model"
      ]
    },
    {
      "cell_type": "code",
      "metadata": {
        "id": "g9WLhwL7C9Xx",
        "colab_type": "code",
        "colab": {}
      },
      "source": [
        "from sklearn import preprocessing\n",
        "number = preprocessing.LabelEncoder()\n",
        "labels= number.fit_transform(labels)"
      ],
      "execution_count": null,
      "outputs": []
    },
    {
      "cell_type": "markdown",
      "metadata": {
        "id": "mBZznbdjvHYh",
        "colab_type": "text"
      },
      "source": [
        "# Data Preprocessing\n",
        "Tiến hành xử lý dữ liệu văn bản (article) :\n",
        "\n",
        "- Loại bỏ các ký tự đặc biệt(dấu câu, số)\n",
        "- Loại bỏ các stopword trong tiếng Anh"
      ]
    },
    {
      "cell_type": "markdown",
      "metadata": {
        "id": "gdRlI-kDb7S8",
        "colab_type": "text"
      },
      "source": [
        "download punkt trong thư viện nltk để tách từ khi xử lý dữ liệu"
      ]
    },
    {
      "cell_type": "code",
      "metadata": {
        "id": "MrFKMfgs5cSP",
        "colab_type": "code",
        "colab": {
          "base_uri": "https://localhost:8080/",
          "height": 67
        },
        "outputId": "74f1de57-0513-46c7-934e-6811f4e36959"
      },
      "source": [
        "import nltk\n",
        "nltk.download('punkt')"
      ],
      "execution_count": null,
      "outputs": [
        {
          "output_type": "stream",
          "text": [
            "[nltk_data] Downloading package punkt to /root/nltk_data...\n",
            "[nltk_data]   Unzipping tokenizers/punkt.zip.\n"
          ],
          "name": "stdout"
        },
        {
          "output_type": "execute_result",
          "data": {
            "text/plain": [
              "True"
            ]
          },
          "metadata": {
            "tags": []
          },
          "execution_count": 9
        }
      ]
    },
    {
      "cell_type": "markdown",
      "metadata": {
        "id": "pK300f9jcV-M",
        "colab_type": "text"
      },
      "source": [
        "download stopwords trong thư viện nltk để xử lý các từ không cần thiết trong tiếng anh"
      ]
    },
    {
      "cell_type": "code",
      "metadata": {
        "id": "tO8G6xin5bMg",
        "colab_type": "code",
        "colab": {
          "base_uri": "https://localhost:8080/",
          "height": 67
        },
        "outputId": "e9d43c3d-d744-469f-f318-d3320c84651a"
      },
      "source": [
        "import nltk\n",
        "nltk.download('stopwords')"
      ],
      "execution_count": null,
      "outputs": [
        {
          "output_type": "stream",
          "text": [
            "[nltk_data] Downloading package stopwords to /root/nltk_data...\n",
            "[nltk_data]   Unzipping corpora/stopwords.zip.\n"
          ],
          "name": "stdout"
        },
        {
          "output_type": "execute_result",
          "data": {
            "text/plain": [
              "True"
            ]
          },
          "metadata": {
            "tags": []
          },
          "execution_count": 10
        }
      ]
    },
    {
      "cell_type": "markdown",
      "metadata": {
        "id": "fCkdmBRacYbw",
        "colab_type": "text"
      },
      "source": [
        "Import thư viện nltk để sử lý ngôn ngữ tự nhiên"
      ]
    },
    {
      "cell_type": "code",
      "metadata": {
        "id": "p1yGhSpDRjcR",
        "colab_type": "code",
        "colab": {}
      },
      "source": [
        "from nltk.corpus import stopwords\n",
        "from nltk.tokenize import word_tokenize"
      ],
      "execution_count": null,
      "outputs": []
    },
    {
      "cell_type": "markdown",
      "metadata": {
        "id": "bdv0RQcGcicr",
        "colab_type": "text"
      },
      "source": [
        "Loại bỏ các ký tự đặc biệt như: dấu câu, số,..."
      ]
    },
    {
      "cell_type": "code",
      "metadata": {
        "id": "MItbIJ9q5RHX",
        "colab_type": "code",
        "colab": {}
      },
      "source": [
        "features = features.apply(lambda s : re.sub('[^a-zA-Z]', ' ', s))"
      ],
      "execution_count": null,
      "outputs": []
    },
    {
      "cell_type": "markdown",
      "metadata": {
        "id": "RkBhud5RcrBx",
        "colab_type": "text"
      },
      "source": [
        "Loại bỏ các stopword (các từ không ảnh hưởng đến nội dung của văn bản) trong tiếng Anh"
      ]
    },
    {
      "cell_type": "code",
      "metadata": {
        "id": "1Wu1BXlQ4FS4",
        "colab_type": "code",
        "colab": {}
      },
      "source": [
        "stop_words = set(stopwords.words('english'))\n",
        "for i in range (len(features)):\n",
        "  word_tokens = word_tokenize(features[i])\n",
        "\n",
        "  filtered_sentence = [w for w in word_tokens if not w in stop_words]\n",
        "\n",
        "  filtered_sentence = []\n",
        "\n",
        "  for w in word_tokens:\n",
        "      if w not in stop_words:\n",
        "          filtered_sentence.append(w)"
      ],
      "execution_count": null,
      "outputs": []
    },
    {
      "cell_type": "markdown",
      "metadata": {
        "id": "1rytH6eDH6Hh",
        "colab_type": "text"
      },
      "source": [
        "# Feature Engineering"
      ]
    },
    {
      "cell_type": "markdown",
      "metadata": {
        "id": "R2q1gNsCc5Zx",
        "colab_type": "text"
      },
      "source": [
        "Vector hóa dữ liệu văn bản bằng TF-IDF:\n",
        "- TF: tần suất xuất hiện của 1 từ trong 1 văn bản\n",
        "- IDF: tần suất nghịch của 1 từ trong 1 tập văn bản\n",
        "- .fit: Máy học từ vựng và tính toán idf( tần suất nghịch của 1 từ trong tập các văn bản) của train set.\n",
        "\n",
        "Tham khảo: https://towardsdatascience.com/how-sklearns-tf-idf-is-different-from-the-standard-tf-idf-275fa582e73d"
      ]
    },
    {
      "cell_type": "code",
      "metadata": {
        "id": "RlAwi88g5hpv",
        "colab_type": "code",
        "colab": {
          "base_uri": "https://localhost:8080/",
          "height": 134
        },
        "outputId": "41633f14-298e-4b21-bd08-1133af5f33c5"
      },
      "source": [
        "from sklearn.feature_extraction.text import TfidfVectorizer\n",
        "tfIdfVec = TfidfVectorizer()\n",
        "tfIdfVec.fit(features)"
      ],
      "execution_count": null,
      "outputs": [
        {
          "output_type": "execute_result",
          "data": {
            "text/plain": [
              "TfidfVectorizer(analyzer='word', binary=False, decode_error='strict',\n",
              "                dtype=<class 'numpy.float64'>, encoding='utf-8',\n",
              "                input='content', lowercase=True, max_df=1.0, max_features=None,\n",
              "                min_df=1, ngram_range=(1, 1), norm='l2', preprocessor=None,\n",
              "                smooth_idf=True, stop_words=None, strip_accents=None,\n",
              "                sublinear_tf=False, token_pattern='(?u)\\\\b\\\\w\\\\w+\\\\b',\n",
              "                tokenizer=None, use_idf=True, vocabulary=None)"
            ]
          },
          "metadata": {
            "tags": []
          },
          "execution_count": 14
        }
      ]
    },
    {
      "cell_type": "markdown",
      "metadata": {
        "id": "hwPjwYJSc9wJ",
        "colab_type": "text"
      },
      "source": [
        "Đưa dữ liệu văn bản về matrix để training model "
      ]
    },
    {
      "cell_type": "code",
      "metadata": {
        "id": "tARX7fOY5kXv",
        "colab_type": "code",
        "colab": {}
      },
      "source": [
        "tf_idf_x = tfIdfVec.transform(features)"
      ],
      "execution_count": null,
      "outputs": []
    },
    {
      "cell_type": "markdown",
      "metadata": {
        "id": "PQCW2tlKdAlB",
        "colab_type": "text"
      },
      "source": [
        "Tiến hành chia dữ liệu train và test: theo tỉ lệ 80% training và 20% testing vì khi thực hiện theo tỉ lệ 70/30 thì độ chính xác của các thuật toán giảm"
      ]
    },
    {
      "cell_type": "code",
      "metadata": {
        "id": "C8hKZy4Y5mr_",
        "colab_type": "code",
        "colab": {}
      },
      "source": [
        "from sklearn.model_selection import train_test_split\n",
        "features_train, features_test, labels_train, labels_test = train_test_split(tf_idf_x.toarray(), labels, test_size = .2, random_state = 0)"
      ],
      "execution_count": null,
      "outputs": []
    },
    {
      "cell_type": "markdown",
      "metadata": {
        "id": "ZndWRL5xdIl4",
        "colab_type": "text"
      },
      "source": [
        "# Chosing Model"
      ]
    },
    {
      "cell_type": "markdown",
      "metadata": {
        "id": "fQgK7dvddQVJ",
        "colab_type": "text"
      },
      "source": [
        "Thêm thư viện sklearn gồm :\n",
        "- Các model sử dụng : LinearSVC, Multinomial Naive Bayes, Random Forest"
      ]
    },
    {
      "cell_type": "code",
      "metadata": {
        "id": "IcW2GdUi5mm2",
        "colab_type": "code",
        "colab": {}
      },
      "source": [
        "from sklearn.svm import LinearSVC\n",
        "from sklearn.naive_bayes import MultinomialNB\n",
        "from sklearn.ensemble import RandomForestClassifier"
      ],
      "execution_count": null,
      "outputs": []
    },
    {
      "cell_type": "markdown",
      "metadata": {
        "id": "V8cQVwasQpFl",
        "colab_type": "text"
      },
      "source": [
        "Model Linear support classifier"
      ]
    },
    {
      "cell_type": "code",
      "metadata": {
        "id": "czzUuCIR51mv",
        "colab_type": "code",
        "colab": {
          "base_uri": "https://localhost:8080/",
          "height": 50
        },
        "outputId": "273b2d21-4ac5-49fd-85f4-67a2da37b657"
      },
      "source": [
        "lsvc = LinearSVC()\n",
        "lsvc.fit(features_train, labels_train)\n",
        "print(\"Train accuracy: \",lsvc.score(features_train, labels_train))\n",
        "print(\"Test accuracy: \",lsvc.score(features_test, labels_test))"
      ],
      "execution_count": null,
      "outputs": [
        {
          "output_type": "stream",
          "text": [
            "Train accuracy:  0.9985775248933144\n",
            "Test accuracy:  0.8920454545454546\n"
          ],
          "name": "stdout"
        }
      ]
    },
    {
      "cell_type": "markdown",
      "metadata": {
        "id": "yVY_cx9wQs9b",
        "colab_type": "text"
      },
      "source": [
        "Model Multinomial Naive Bayes"
      ]
    },
    {
      "cell_type": "code",
      "metadata": {
        "id": "fWatFhf854ra",
        "colab_type": "code",
        "colab": {
          "base_uri": "https://localhost:8080/",
          "height": 50
        },
        "outputId": "16c58cbb-0afc-457d-c077-c791c53c9b91"
      },
      "source": [
        "mnb = MultinomialNB()\n",
        "mnb.fit(features_train, labels_train)\n",
        "print(\"train accuracy: \",mnb.score(features_train, labels_train))\n",
        "print(\"Test accuracy: \",mnb.score(features_test, labels_test))"
      ],
      "execution_count": null,
      "outputs": [
        {
          "output_type": "stream",
          "text": [
            "train accuracy:  0.9193930772878142\n",
            "Test accuracy:  0.8352272727272727\n"
          ],
          "name": "stdout"
        }
      ]
    },
    {
      "cell_type": "markdown",
      "metadata": {
        "id": "5GhzWa32Qx4j",
        "colab_type": "text"
      },
      "source": [
        "Model Random Forest Classifier"
      ]
    },
    {
      "cell_type": "code",
      "metadata": {
        "id": "bqARVqPC5-Un",
        "colab_type": "code",
        "colab": {
          "base_uri": "https://localhost:8080/",
          "height": 50
        },
        "outputId": "ac2e209c-5fbe-45c3-8e84-1cf3301d954f"
      },
      "source": [
        "rfc = RandomForestClassifier(n_estimators = 10, random_state = 0)\n",
        "rfc.fit(features_train, labels_train)\n",
        "print(\"train accuracy: \",rfc.score(features_train, labels_train))\n",
        "print(\"Test accuracy: \",rfc.score(features_test, labels_test))"
      ],
      "execution_count": null,
      "outputs": [
        {
          "output_type": "stream",
          "text": [
            "train accuracy:  0.9957325746799431\n",
            "Test accuracy:  0.7234848484848485\n"
          ],
          "name": "stdout"
        }
      ]
    },
    {
      "cell_type": "markdown",
      "metadata": {
        "id": "G46OvEG6eBs4",
        "colab_type": "text"
      },
      "source": [
        "=> Qua accuracy của các model, ta thấy model Linear support classifier có độ chính xác cao nhất với 89,2% và model Random Forest bị overfitting vì số lượng dataset ít."
      ]
    },
    {
      "cell_type": "markdown",
      "metadata": {
        "id": "6PMHA1uDpUhL",
        "colab_type": "text"
      },
      "source": [
        "# Đánh giá Model"
      ]
    },
    {
      "cell_type": "markdown",
      "metadata": {
        "id": "MvM_PCuTpcFx",
        "colab_type": "text"
      },
      "source": [
        "Để đánh giá performance của các model thì cách tính bằng accuracy không phản ánh chính xác dữ liệu được phân loại như thê nào vì vậy chúng ta cần 1 cách tính độ chính xác khác đó là **F1 Score**"
      ]
    },
    {
      "cell_type": "markdown",
      "metadata": {
        "id": "X86zk2shuH8R",
        "colab_type": "text"
      },
      "source": [
        "F1-score: trung bình điều hòa giữa precision và recall\n",
        "\n",
        "F1-score = 2*(precision * recall)/(precision+recall)"
      ]
    },
    {
      "cell_type": "markdown",
      "metadata": {
        "id": "qKmKEK6Gt8o5",
        "colab_type": "text"
      },
      "source": [
        "**Precision** được định nghĩa là tỉ lệ số điểm true positive trong số những điểm được phân loại là positive\n",
        "\n",
        "Precision = TP/(TP+FP)\n",
        "Với : TP(True positive), FP(False positive)"
      ]
    },
    {
      "cell_type": "markdown",
      "metadata": {
        "id": "ZfUtnwdGuE4J",
        "colab_type": "text"
      },
      "source": [
        "**Recall** được định nghĩa là tỉ lệ số điểm true positive trong số những điểm thực sự là positive\n",
        "\n",
        "Recall=TP/(TP+FN) Với TP(True positive), FN(False negative)"
      ]
    },
    {
      "cell_type": "markdown",
      "metadata": {
        "id": "dLJOVMrK91gI",
        "colab_type": "text"
      },
      "source": [
        "Code tham khảo : https://scikit-learn.org/stable/modules/generated/sklearn.metrics.f1_score.html"
      ]
    },
    {
      "cell_type": "code",
      "metadata": {
        "id": "Ail9CGN16Ejf",
        "colab_type": "code",
        "colab": {}
      },
      "source": [
        "from sklearn.metrics import confusion_matrix\n",
        "from sklearn.metrics import f1_score"
      ],
      "execution_count": null,
      "outputs": []
    },
    {
      "cell_type": "markdown",
      "metadata": {
        "id": "D7AjbeUDQzxz",
        "colab_type": "text"
      },
      "source": [
        "Model Linear support classifier"
      ]
    },
    {
      "cell_type": "code",
      "metadata": {
        "id": "AvPWeZH26GUT",
        "colab_type": "code",
        "colab": {
          "base_uri": "https://localhost:8080/",
          "height": 34
        },
        "outputId": "968985e9-0c02-4c3d-9f01-f0c54b0c4986"
      },
      "source": [
        "y1_pred=lsvc.predict(features_test) #Lưu kết quả dự đoán của model LinearSVC vào biến y1_pred\n",
        "f1 = f1_score(labels_test, y1_pred, average='macro')\n",
        "print(\"F1 score: \",f1)"
      ],
      "execution_count": null,
      "outputs": [
        {
          "output_type": "stream",
          "text": [
            "F1 score:  0.8861288110545362\n"
          ],
          "name": "stdout"
        }
      ]
    },
    {
      "cell_type": "markdown",
      "metadata": {
        "id": "7IuhB_kzQ0cz",
        "colab_type": "text"
      },
      "source": [
        "Model Multinomial Naive Bayes"
      ]
    },
    {
      "cell_type": "code",
      "metadata": {
        "id": "N93Ky06J6I83",
        "colab_type": "code",
        "colab": {
          "base_uri": "https://localhost:8080/",
          "height": 34
        },
        "outputId": "13aafc44-4904-4197-9f87-a9b52e29ed9e"
      },
      "source": [
        "y2_pred=mnb.predict(features_test) #Lưu kết quả dự đoán của model MultinomialNB vào biến y2_pred\n",
        "f1 = f1_score(labels_test, y2_pred, average='macro')\n",
        "print(\"F1 score: \",f1)"
      ],
      "execution_count": null,
      "outputs": [
        {
          "output_type": "stream",
          "text": [
            "F1 score:  0.7461226600644999\n"
          ],
          "name": "stdout"
        }
      ]
    },
    {
      "cell_type": "markdown",
      "metadata": {
        "id": "-GUbX2PyQ6Rz",
        "colab_type": "text"
      },
      "source": [
        "Model Random Forest Classifier"
      ]
    },
    {
      "cell_type": "code",
      "metadata": {
        "id": "U2r-jpL26MAf",
        "colab_type": "code",
        "colab": {
          "base_uri": "https://localhost:8080/",
          "height": 34
        },
        "outputId": "16a76805-8d94-49b2-a5e7-afdf96d55be1"
      },
      "source": [
        "y3_pred=rfc.predict(features_test) #Lưu kết quả dự đoán của model RandomForest vào biến y3_pred\n",
        "f1 = f1_score(labels_test, y3_pred, average='macro')\n",
        "print(\"F1 score: \",f1)"
      ],
      "execution_count": null,
      "outputs": [
        {
          "output_type": "stream",
          "text": [
            "F1 score:  0.7052716389326805\n"
          ],
          "name": "stdout"
        }
      ]
    },
    {
      "cell_type": "markdown",
      "metadata": {
        "id": "F6LEDMiafF6H",
        "colab_type": "text"
      },
      "source": [
        "Dùng Confusion Matrix để trực quan hóa về F1 score của từng class\n",
        "\n",
        "Code tham khảo: https://towardsdatascience.com/confusion-matrix-for-your-multi-class-machine-learning-model-ff9aa3bf7826"
      ]
    },
    {
      "cell_type": "code",
      "metadata": {
        "id": "Tbgj5NPXDAzh",
        "colab_type": "code",
        "colab": {
          "base_uri": "https://localhost:8080/",
          "height": 168
        },
        "outputId": "ebc1af28-256c-46e7-8b73-8df313eabaa9"
      },
      "source": [
        "confusion = confusion_matrix(labels_test, y1_pred)\n",
        "print('Confusion Matrix')\n",
        "print(confusion)"
      ],
      "execution_count": null,
      "outputs": [
        {
          "output_type": "stream",
          "text": [
            "Confusion Matrix\n",
            "[[52  1 10  0  0  0  1  5]\n",
            " [ 3 70  0  0  0  0  2  2]\n",
            " [ 5  1 52  1  2  2  2  1]\n",
            " [ 1  0  2 17  0  0  2  0]\n",
            " [ 0  0  1  0 60  0  0  0]\n",
            " [ 0  0  1  0  0 84  1  0]\n",
            " [ 4  3  2  0  0  2 72  0]\n",
            " [ 0  0  0  0  0  0  0 64]]\n"
          ],
          "name": "stdout"
        }
      ]
    },
    {
      "cell_type": "code",
      "metadata": {
        "id": "s_Z_EO1ADljF",
        "colab_type": "code",
        "colab": {
          "base_uri": "https://localhost:8080/",
          "height": 319
        },
        "outputId": "fed2304c-1620-4715-b282-a9dbe477b298"
      },
      "source": [
        "from sklearn.metrics import classification_report\n",
        "print('\\nClassification Report\\n')\n",
        "print(classification_report(labels_test, y1_pred, target_names=['femail', 'films', 'health','lifestyle','sport','technology','travel','tvshowbiz']))"
      ],
      "execution_count": null,
      "outputs": [
        {
          "output_type": "stream",
          "text": [
            "\n",
            "Classification Report\n",
            "\n",
            "              precision    recall  f1-score   support\n",
            "\n",
            "      femail       0.80      0.75      0.78        69\n",
            "       films       0.93      0.91      0.92        77\n",
            "      health       0.76      0.79      0.78        66\n",
            "   lifestyle       0.94      0.77      0.85        22\n",
            "       sport       0.97      0.98      0.98        61\n",
            "  technology       0.95      0.98      0.97        86\n",
            "      travel       0.90      0.87      0.88        83\n",
            "   tvshowbiz       0.89      1.00      0.94        64\n",
            "\n",
            "    accuracy                           0.89       528\n",
            "   macro avg       0.89      0.88      0.89       528\n",
            "weighted avg       0.89      0.89      0.89       528\n",
            "\n"
          ],
          "name": "stdout"
        }
      ]
    },
    {
      "cell_type": "code",
      "metadata": {
        "id": "hpBU6YiUqE6f",
        "colab_type": "code",
        "colab": {
          "base_uri": "https://localhost:8080/",
          "height": 168
        },
        "outputId": "3236748e-6a7c-463c-888f-5503d2697fda"
      },
      "source": [
        "confusion = confusion_matrix(labels_test, y2_pred)\n",
        "print('Confusion Matrix')\n",
        "print(confusion)"
      ],
      "execution_count": null,
      "outputs": [
        {
          "output_type": "stream",
          "text": [
            "Confusion Matrix\n",
            "[[62  0  2  0  0  0  0  5]\n",
            " [ 6 66  0  0  0  0  2  3]\n",
            " [19  0 38  0  0  7  1  1]\n",
            " [10  1  2  0  0  1  8  0]\n",
            " [ 1  0  1  0 58  0  0  1]\n",
            " [ 1  1  1  0  0 81  2  0]\n",
            " [ 6  2  1  0  0  0 74  0]\n",
            " [ 1  0  0  0  0  0  1 62]]\n"
          ],
          "name": "stdout"
        }
      ]
    },
    {
      "cell_type": "code",
      "metadata": {
        "id": "1rel4w2_qLSt",
        "colab_type": "code",
        "colab": {
          "base_uri": "https://localhost:8080/",
          "height": 373
        },
        "outputId": "d41108a0-2389-4900-8cba-0d9dc00e5e26"
      },
      "source": [
        "from sklearn.metrics import classification_report\n",
        "print('\\nClassification Report\\n')\n",
        "print(classification_report(labels_test, y2_pred, target_names=['femail', 'films', 'health','lifestyle','sport','technology','travel','tvshowbiz']))"
      ],
      "execution_count": null,
      "outputs": [
        {
          "output_type": "stream",
          "text": [
            "\n",
            "Classification Report\n",
            "\n",
            "              precision    recall  f1-score   support\n",
            "\n",
            "      femail       0.58      0.90      0.71        69\n",
            "       films       0.94      0.86      0.90        77\n",
            "      health       0.84      0.58      0.68        66\n",
            "   lifestyle       0.00      0.00      0.00        22\n",
            "       sport       1.00      0.95      0.97        61\n",
            "  technology       0.91      0.94      0.93        86\n",
            "      travel       0.84      0.89      0.87        83\n",
            "   tvshowbiz       0.86      0.97      0.91        64\n",
            "\n",
            "    accuracy                           0.84       528\n",
            "   macro avg       0.75      0.76      0.75       528\n",
            "weighted avg       0.82      0.84      0.82       528\n",
            "\n"
          ],
          "name": "stdout"
        },
        {
          "output_type": "stream",
          "text": [
            "/usr/local/lib/python3.6/dist-packages/sklearn/metrics/_classification.py:1272: UndefinedMetricWarning: Precision and F-score are ill-defined and being set to 0.0 in labels with no predicted samples. Use `zero_division` parameter to control this behavior.\n",
            "  _warn_prf(average, modifier, msg_start, len(result))\n"
          ],
          "name": "stderr"
        }
      ]
    },
    {
      "cell_type": "code",
      "metadata": {
        "id": "w8SLTnKoqGB1",
        "colab_type": "code",
        "colab": {
          "base_uri": "https://localhost:8080/",
          "height": 168
        },
        "outputId": "59158bd2-c2b7-4293-f90f-5100538248db"
      },
      "source": [
        "confusion = confusion_matrix(labels_test, y3_pred)\n",
        "print('Confusion Matrix')\n",
        "print(confusion)"
      ],
      "execution_count": null,
      "outputs": [
        {
          "output_type": "stream",
          "text": [
            "Confusion Matrix\n",
            "[[38  6 11  1  0  3  0 10]\n",
            " [ 1 69  2  0  1  0  2  2]\n",
            " [13  5 35  0  0  6  4  3]\n",
            " [ 5  0  2  9  0  2  4  0]\n",
            " [ 3  5  0  0 50  2  0  1]\n",
            " [ 3  4  5  0  1 72  0  1]\n",
            " [ 7  4  8  0  1  1 58  4]\n",
            " [ 7  4  1  0  0  0  1 51]]\n"
          ],
          "name": "stdout"
        }
      ]
    },
    {
      "cell_type": "code",
      "metadata": {
        "id": "LmQQ_y1wqLql",
        "colab_type": "code",
        "colab": {
          "base_uri": "https://localhost:8080/",
          "height": 319
        },
        "outputId": "ca385f37-3ff9-4381-8836-ff6bf82f9a3f"
      },
      "source": [
        "from sklearn.metrics import classification_report\n",
        "print('\\nClassification Report\\n')\n",
        "print(classification_report(labels_test, y3_pred, target_names=['femail', 'films', 'health','lifestyle','sport','technology','travel','tvshowbiz']))"
      ],
      "execution_count": null,
      "outputs": [
        {
          "output_type": "stream",
          "text": [
            "\n",
            "Classification Report\n",
            "\n",
            "              precision    recall  f1-score   support\n",
            "\n",
            "      femail       0.49      0.55      0.52        69\n",
            "       films       0.71      0.90      0.79        77\n",
            "      health       0.55      0.53      0.54        66\n",
            "   lifestyle       0.90      0.41      0.56        22\n",
            "       sport       0.94      0.82      0.88        61\n",
            "  technology       0.84      0.84      0.84        86\n",
            "      travel       0.84      0.70      0.76        83\n",
            "   tvshowbiz       0.71      0.80      0.75        64\n",
            "\n",
            "    accuracy                           0.72       528\n",
            "   macro avg       0.75      0.69      0.71       528\n",
            "weighted avg       0.74      0.72      0.72       528\n",
            "\n"
          ],
          "name": "stdout"
        }
      ]
    },
    {
      "cell_type": "markdown",
      "metadata": {
        "id": "USpUAICkqC43",
        "colab_type": "text"
      },
      "source": [
        "# Chương trình test"
      ]
    },
    {
      "cell_type": "markdown",
      "metadata": {
        "id": "r2DwyEs3qGLn",
        "colab_type": "text"
      },
      "source": [
        "Nhập đoạn văn bản tiếng Anh muốn dự đoán"
      ]
    },
    {
      "cell_type": "code",
      "metadata": {
        "id": "mLaP0nTrpIPO",
        "colab_type": "code",
        "colab": {
          "base_uri": "https://localhost:8080/",
          "height": 70
        },
        "outputId": "5d84f550-f38a-400b-dc1f-92d8c0d0c6d4"
      },
      "source": [
        "print(\"Nhap: \")\n",
        "ch=(str(input()))"
      ],
      "execution_count": null,
      "outputs": [
        {
          "output_type": "stream",
          "text": [
            "Nhap: \n",
            "Last Thursday afternoon in San Francisco three men were out alone on the range at TPC Harding Park: Jordan Spieth, his caddie, Michael Greller, and his coach, Cameron McCormick. Spieth had finished his opening round of the US PGA Championship three-and-a-half hours earlier. He’d shot 73, three-over, and was eight-off the lead, tied 109th. Now he was sitting cross-legged, his arms draped over his knees, staring into the middle distance like the answers he was looking for were hiding somewhere down there at the far end of the range.  Earlier that day, the PGA Tour posted a short clip of Spieth talking about the one thing he’d like to be able to tell his younger self. “Let me think about this question for a second,” he says in the video, “the one thing about golf that I wish I knew then that I know now.” There’s a long pause, and then he comes up with his answer. “Honestly,” he said, laughing, “I wish I played with the mentality I had back then.”\n"
          ],
          "name": "stdout"
        }
      ]
    },
    {
      "cell_type": "markdown",
      "metadata": {
        "id": "GsF33Yi4qV5G",
        "colab_type": "text"
      },
      "source": [
        "Xử lý dữ liệu được đưa vào"
      ]
    },
    {
      "cell_type": "code",
      "metadata": {
        "id": "2PQmF7lJpL9c",
        "colab_type": "code",
        "colab": {}
      },
      "source": [
        "ch = re.sub(r'[^a-zA-Z]',' ',ch)\n",
        "ch_tokens = word_tokenize(ch)\n",
        "ch_sentence = [w for w in ch_tokens if not w in stop_words]\n",
        "ch_val = tfIdfVec.transform([ch]).toarray()"
      ],
      "execution_count": null,
      "outputs": []
    },
    {
      "cell_type": "markdown",
      "metadata": {
        "id": "QarRsBxTqY4Q",
        "colab_type": "text"
      },
      "source": [
        "Dự đoán chủ đề của văn bản đã nhập"
      ]
    },
    {
      "cell_type": "code",
      "metadata": {
        "id": "vtOR4qa2pN_n",
        "colab_type": "code",
        "colab": {}
      },
      "source": [
        "ch_pred=lsvc.predict(ch_val)"
      ],
      "execution_count": null,
      "outputs": []
    },
    {
      "cell_type": "code",
      "metadata": {
        "id": "P3pMhLc_pPpF",
        "colab_type": "code",
        "colab": {
          "base_uri": "https://localhost:8080/",
          "height": 34
        },
        "outputId": "4b6b814d-c982-42b2-e7ce-7fd6b5ac107d"
      },
      "source": [
        "if (ch_pred[0]==0):\n",
        "  print('femail')\n",
        "if (ch_pred[0]==1):\n",
        "  print('films')\n",
        "if (ch_pred[0]==2):\n",
        "  print('health')\n",
        "if (ch_pred[0]==3):\n",
        "  print('lifestyle')\n",
        "if (ch_pred[0]==4):\n",
        "  print('sport')\n",
        "if (ch_pred[0]==5):\n",
        "  print('technology')\n",
        "if (ch_pred[0]==6):\n",
        "  print('travel')\n",
        "if (ch_pred[0]==7):\n",
        "  print('tvshowbiz')"
      ],
      "execution_count": null,
      "outputs": [
        {
          "output_type": "stream",
          "text": [
            "sport\n"
          ],
          "name": "stdout"
        }
      ]
    }
  ]
}