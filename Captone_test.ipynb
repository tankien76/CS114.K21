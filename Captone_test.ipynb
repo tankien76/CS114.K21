{
  "nbformat": 4,
  "nbformat_minor": 0,
  "metadata": {
    "colab": {
      "name": "Captone-test.ipynb",
      "provenance": [],
      "collapsed_sections": [],
      "toc_visible": true,
      "authorship_tag": "ABX9TyNwKhMMFmaAtpRbmA0mjg2Q",
      "include_colab_link": true
    },
    "kernelspec": {
      "name": "python3",
      "display_name": "Python 3"
    }
  },
  "cells": [
    {
      "cell_type": "markdown",
      "metadata": {
        "id": "view-in-github",
        "colab_type": "text"
      },
      "source": [
        "<a href=\"https://colab.research.google.com/github/tankien76/CS114.K21/blob/master/Captone_test.ipynb\" target=\"_parent\"><img src=\"https://colab.research.google.com/assets/colab-badge.svg\" alt=\"Open In Colab\"/></a>"
      ]
    },
    {
      "cell_type": "markdown",
      "metadata": {
        "id": "PxLauGJEGRTT",
        "colab_type": "text"
      },
      "source": [
        "# Danh sách nhóm\n",
        "- Đoàn Xuân Minh - MSSV: 18521093\n",
        "- Lê Trần Phúc Nguyên - MSSV: 18521157\n",
        "- Phan Quang Tấn - MSSV: 18521377\n"
      ]
    },
    {
      "cell_type": "markdown",
      "metadata": {
        "id": "dmZ9dSQ_G5Ce",
        "colab_type": "text"
      },
      "source": [
        "# Mô tả bài toán : Dự đoán chủ đề của một bài báo tiếng Anh\n",
        "- Input: Một đoạn văn bản của một bài báo (article)\n",
        "- Output: Chủ đề của đoạn văn bản "
      ]
    },
    {
      "cell_type": "markdown",
      "metadata": {
        "id": "buiDkK7rHboO",
        "colab_type": "text"
      },
      "source": [
        "Code tham khảo: https://towardsdatascience.com/sarcasm-detection-step-towards-sentiment-analysis-84cb013bb6db"
      ]
    },
    {
      "cell_type": "markdown",
      "metadata": {
        "id": "tg3qbjf7HdSF",
        "colab_type": "text"
      },
      "source": [
        "Code tham khảo: https://pythonspot.com/nltk-stop-words/"
      ]
    },
    {
      "cell_type": "markdown",
      "metadata": {
        "id": "8WwK6DeaI7Fv",
        "colab_type": "text"
      },
      "source": [
        "# Prepare dataset"
      ]
    },
    {
      "cell_type": "markdown",
      "metadata": {
        "id": "vsnxtpb_I9cF",
        "colab_type": "text"
      },
      "source": [
        "Thực hiện cào dữ liệu (crawl data) từ các trang báo tiếng Anh nổi tiếng như : Thesun https://www.thesun.co.uk/ , Dailymail https://www.dailymail.co.uk/home/index.html, Telepraph http://telegraph.co.uk/"
      ]
    },
    {
      "cell_type": "markdown",
      "metadata": {
        "id": "hWojIb1YMJMf",
        "colab_type": "text"
      },
      "source": [
        "Code Crawl : https://github.com/tankien76/CS114.K21/blob/master/CrawlerTest.ipynb"
      ]
    },
    {
      "cell_type": "markdown",
      "metadata": {
        "id": "2wBGcFSELVLY",
        "colab_type": "text"
      },
      "source": [
        "Tập dataset sau khi crawl gồm có hơn 2600 bài báo với 8 chủ đề khác nhau như : sport, tvshowbiz, femail,..."
      ]
    },
    {
      "cell_type": "code",
      "metadata": {
        "id": "E6jjP_fsRRZY",
        "colab_type": "code",
        "colab": {
          "base_uri": "https://localhost:8080/",
          "height": 272
        },
        "outputId": "6ec6bc86-7d8f-4467-c592-7dbdac558845"
      },
      "source": [
        "!pip install PyDrive"
      ],
      "execution_count": 1,
      "outputs": [
        {
          "output_type": "stream",
          "text": [
            "Requirement already satisfied: PyDrive in /usr/local/lib/python3.6/dist-packages (1.3.1)\n",
            "Requirement already satisfied: oauth2client>=4.0.0 in /usr/local/lib/python3.6/dist-packages (from PyDrive) (4.1.3)\n",
            "Requirement already satisfied: google-api-python-client>=1.2 in /usr/local/lib/python3.6/dist-packages (from PyDrive) (1.7.12)\n",
            "Requirement already satisfied: PyYAML>=3.0 in /usr/local/lib/python3.6/dist-packages (from PyDrive) (3.13)\n",
            "Requirement already satisfied: pyasn1-modules>=0.0.5 in /usr/local/lib/python3.6/dist-packages (from oauth2client>=4.0.0->PyDrive) (0.2.8)\n",
            "Requirement already satisfied: six>=1.6.1 in /usr/local/lib/python3.6/dist-packages (from oauth2client>=4.0.0->PyDrive) (1.15.0)\n",
            "Requirement already satisfied: pyasn1>=0.1.7 in /usr/local/lib/python3.6/dist-packages (from oauth2client>=4.0.0->PyDrive) (0.4.8)\n",
            "Requirement already satisfied: rsa>=3.1.4 in /usr/local/lib/python3.6/dist-packages (from oauth2client>=4.0.0->PyDrive) (4.6)\n",
            "Requirement already satisfied: httplib2>=0.9.1 in /usr/local/lib/python3.6/dist-packages (from oauth2client>=4.0.0->PyDrive) (0.17.4)\n",
            "Requirement already satisfied: google-auth-httplib2>=0.0.3 in /usr/local/lib/python3.6/dist-packages (from google-api-python-client>=1.2->PyDrive) (0.0.4)\n",
            "Requirement already satisfied: uritemplate<4dev,>=3.0.0 in /usr/local/lib/python3.6/dist-packages (from google-api-python-client>=1.2->PyDrive) (3.0.1)\n",
            "Requirement already satisfied: google-auth>=1.4.1 in /usr/local/lib/python3.6/dist-packages (from google-api-python-client>=1.2->PyDrive) (1.17.2)\n",
            "Requirement already satisfied: setuptools>=40.3.0 in /usr/local/lib/python3.6/dist-packages (from google-auth>=1.4.1->google-api-python-client>=1.2->PyDrive) (49.2.0)\n",
            "Requirement already satisfied: cachetools<5.0,>=2.0.0 in /usr/local/lib/python3.6/dist-packages (from google-auth>=1.4.1->google-api-python-client>=1.2->PyDrive) (4.1.1)\n"
          ],
          "name": "stdout"
        }
      ]
    },
    {
      "cell_type": "code",
      "metadata": {
        "id": "Bqy536FtRTxH",
        "colab_type": "code",
        "colab": {}
      },
      "source": [
        "from pydrive.auth import GoogleAuth\n",
        "from pydrive.drive import GoogleDrive\n",
        "from google.colab import auth\n",
        "from oauth2client.client import GoogleCredentials"
      ],
      "execution_count": 2,
      "outputs": []
    },
    {
      "cell_type": "code",
      "metadata": {
        "id": "aESAzJW40pu1",
        "colab_type": "code",
        "colab": {}
      },
      "source": [
        "auth.authenticate_user()\n",
        "gauth = GoogleAuth()\n",
        "gauth.credentials = GoogleCredentials.get_application_default()\n",
        "drive = GoogleDrive(gauth)"
      ],
      "execution_count": 3,
      "outputs": []
    },
    {
      "cell_type": "code",
      "metadata": {
        "id": "C0wGsF59RXmm",
        "colab_type": "code",
        "colab": {}
      },
      "source": [
        "downloaded = drive.CreateFile({'id':\"1o2zIVZBmqSJa8huDq_Nn8waeTksbH4KI\"})\n",
        "downloaded.GetContentFile('text_data.csv')"
      ],
      "execution_count": 4,
      "outputs": []
    },
    {
      "cell_type": "markdown",
      "metadata": {
        "id": "4JIH9YF6VGst",
        "colab_type": "text"
      },
      "source": [
        "Import các thư viện:\n",
        "- pandas : đọc dữ liệu file json\n",
        "- numpy : xử lý dữ liệu text"
      ]
    },
    {
      "cell_type": "code",
      "metadata": {
        "id": "-moTwCWm4qpn",
        "colab_type": "code",
        "colab": {}
      },
      "source": [
        "import pandas as pd, numpy as np, re"
      ],
      "execution_count": 5,
      "outputs": []
    },
    {
      "cell_type": "markdown",
      "metadata": {
        "id": "FafRyyQC8nF4",
        "colab_type": "text"
      },
      "source": [
        "Đọc dữ liệu bằng thư viện pandas từ file text_data.csv"
      ]
    },
    {
      "cell_type": "code",
      "metadata": {
        "id": "10y3eUQS4sNX",
        "colab_type": "code",
        "colab": {
          "base_uri": "https://localhost:8080/",
          "height": 195
        },
        "outputId": "06429fb7-97eb-4954-8534-83c952fa8822"
      },
      "source": [
        "dataset = pd.read_csv(\"text_data.csv\", encoding='ISO 8859-1')\n",
        "dataset.head()"
      ],
      "execution_count": 6,
      "outputs": [
        {
          "output_type": "execute_result",
          "data": {
            "text/html": [
              "<div>\n",
              "<style scoped>\n",
              "    .dataframe tbody tr th:only-of-type {\n",
              "        vertical-align: middle;\n",
              "    }\n",
              "\n",
              "    .dataframe tbody tr th {\n",
              "        vertical-align: top;\n",
              "    }\n",
              "\n",
              "    .dataframe thead th {\n",
              "        text-align: right;\n",
              "    }\n",
              "</style>\n",
              "<table border=\"1\" class=\"dataframe\">\n",
              "  <thead>\n",
              "    <tr style=\"text-align: right;\">\n",
              "      <th></th>\n",
              "      <th>article</th>\n",
              "      <th>category</th>\n",
              "    </tr>\n",
              "  </thead>\n",
              "  <tbody>\n",
              "    <tr>\n",
              "      <th>0</th>\n",
              "      <td>PHOTOS of McDonalds restaurants and merchandis...</td>\n",
              "      <td>lifestyle</td>\n",
              "    </tr>\n",
              "    <tr>\n",
              "      <th>1</th>\n",
              "      <td>ARIESMarch 21 to April 20SATURN, the most powe...</td>\n",
              "      <td>lifestyle</td>\n",
              "    </tr>\n",
              "    <tr>\n",
              "      <th>2</th>\n",
              "      <td>BRITS are being tempted to fly abroad once loc...</td>\n",
              "      <td>lifestyle</td>\n",
              "    </tr>\n",
              "    <tr>\n",
              "      <th>3</th>\n",
              "      <td>DONNA Mitchell tried every fad diet in the boo...</td>\n",
              "      <td>lifestyle</td>\n",
              "    </tr>\n",
              "    <tr>\n",
              "      <th>4</th>\n",
              "      <td>FASHION fans can buy jeans and a sleeveless to...</td>\n",
              "      <td>lifestyle</td>\n",
              "    </tr>\n",
              "  </tbody>\n",
              "</table>\n",
              "</div>"
            ],
            "text/plain": [
              "                                             article   category\n",
              "0  PHOTOS of McDonalds restaurants and merchandis...  lifestyle\n",
              "1  ARIESMarch 21 to April 20SATURN, the most powe...  lifestyle\n",
              "2  BRITS are being tempted to fly abroad once loc...  lifestyle\n",
              "3  DONNA Mitchell tried every fad diet in the boo...  lifestyle\n",
              "4  FASHION fans can buy jeans and a sleeveless to...  lifestyle"
            ]
          },
          "metadata": {
            "tags": []
          },
          "execution_count": 6
        }
      ]
    },
    {
      "cell_type": "markdown",
      "metadata": {
        "id": "ExRkgG8qVqJ5",
        "colab_type": "text"
      },
      "source": [
        "Đưa dữ liệu article và category vào list tương ứng"
      ]
    },
    {
      "cell_type": "code",
      "metadata": {
        "id": "m7MEcUKZ5Lcg",
        "colab_type": "code",
        "colab": {}
      },
      "source": [
        "features = dataset['article']\n",
        "labels = dataset['category']"
      ],
      "execution_count": 7,
      "outputs": []
    },
    {
      "cell_type": "markdown",
      "metadata": {
        "id": "yMylBoluVvaA",
        "colab_type": "text"
      },
      "source": [
        "Thực hiện chuyển đổi các nhãn dán thành số để dễ dàng thực hiện trong khi training và test model"
      ]
    },
    {
      "cell_type": "code",
      "metadata": {
        "id": "g9WLhwL7C9Xx",
        "colab_type": "code",
        "colab": {}
      },
      "source": [
        "from sklearn import preprocessing\n",
        "number = preprocessing.LabelEncoder()\n",
        "labels= number.fit_transform(labels)"
      ],
      "execution_count": 8,
      "outputs": []
    },
    {
      "cell_type": "markdown",
      "metadata": {
        "id": "mBZznbdjvHYh",
        "colab_type": "text"
      },
      "source": [
        "# Feature Engineering\n",
        "Tiến hành xử lý dữ liệu văn bản (article) :\n",
        "\n",
        "- Loại bỏ các ký tự đặc biệt(dấu câu, số)\n",
        "- Loại bỏ các stopword trong tiếng anh\n",
        "- Vector hóa dữ liệu"
      ]
    },
    {
      "cell_type": "markdown",
      "metadata": {
        "id": "gdRlI-kDb7S8",
        "colab_type": "text"
      },
      "source": [
        "download punkt trong thư viện nltk để tách từ khi xử lý dữ liệu"
      ]
    },
    {
      "cell_type": "code",
      "metadata": {
        "id": "tO8G6xin5bMg",
        "colab_type": "code",
        "colab": {
          "base_uri": "https://localhost:8080/",
          "height": 67
        },
        "outputId": "0b1d11e0-4f4e-400f-840d-695acb9b9b73"
      },
      "source": [
        "import nltk\n",
        "nltk.download('stopwords')"
      ],
      "execution_count": 9,
      "outputs": [
        {
          "output_type": "stream",
          "text": [
            "[nltk_data] Downloading package stopwords to /root/nltk_data...\n",
            "[nltk_data]   Unzipping corpora/stopwords.zip.\n"
          ],
          "name": "stdout"
        },
        {
          "output_type": "execute_result",
          "data": {
            "text/plain": [
              "True"
            ]
          },
          "metadata": {
            "tags": []
          },
          "execution_count": 9
        }
      ]
    },
    {
      "cell_type": "markdown",
      "metadata": {
        "id": "pK300f9jcV-M",
        "colab_type": "text"
      },
      "source": [
        "download stopwords trong thư viện nltk để xử lý các từ không cần thiết trong tiếng anh"
      ]
    },
    {
      "cell_type": "code",
      "metadata": {
        "id": "MrFKMfgs5cSP",
        "colab_type": "code",
        "colab": {
          "base_uri": "https://localhost:8080/",
          "height": 67
        },
        "outputId": "a4f0725a-0476-4576-8938-cfdab4109408"
      },
      "source": [
        "import nltk\n",
        "nltk.download('punkt')"
      ],
      "execution_count": 10,
      "outputs": [
        {
          "output_type": "stream",
          "text": [
            "[nltk_data] Downloading package punkt to /root/nltk_data...\n",
            "[nltk_data]   Unzipping tokenizers/punkt.zip.\n"
          ],
          "name": "stdout"
        },
        {
          "output_type": "execute_result",
          "data": {
            "text/plain": [
              "True"
            ]
          },
          "metadata": {
            "tags": []
          },
          "execution_count": 10
        }
      ]
    },
    {
      "cell_type": "markdown",
      "metadata": {
        "id": "fCkdmBRacYbw",
        "colab_type": "text"
      },
      "source": [
        "Import thư viện nltk để sử lý ngôn ngữ tự nhiên"
      ]
    },
    {
      "cell_type": "code",
      "metadata": {
        "id": "p1yGhSpDRjcR",
        "colab_type": "code",
        "colab": {}
      },
      "source": [
        "from nltk.corpus import stopwords\n",
        "from nltk.tokenize import word_tokenize"
      ],
      "execution_count": 11,
      "outputs": []
    },
    {
      "cell_type": "markdown",
      "metadata": {
        "id": "bdv0RQcGcicr",
        "colab_type": "text"
      },
      "source": [
        "Loại bỏ các ký tự đặc biệt như: dấu câu, số,..."
      ]
    },
    {
      "cell_type": "code",
      "metadata": {
        "id": "MItbIJ9q5RHX",
        "colab_type": "code",
        "colab": {}
      },
      "source": [
        "features = features.apply(lambda s : re.sub('[^a-zA-Z]', ' ', s))"
      ],
      "execution_count": 12,
      "outputs": []
    },
    {
      "cell_type": "markdown",
      "metadata": {
        "id": "RkBhud5RcrBx",
        "colab_type": "text"
      },
      "source": [
        "Loại bỏ các stopword (các từ không ảnh hưởng đến nội dung của văn bản) trong tiếng Anh"
      ]
    },
    {
      "cell_type": "code",
      "metadata": {
        "id": "1Wu1BXlQ4FS4",
        "colab_type": "code",
        "colab": {}
      },
      "source": [
        "stop_words = set(stopwords.words('english'))\n",
        "for i in range (len(features)):\n",
        "  word_tokens = word_tokenize(features[i])\n",
        "\n",
        "  filtered_sentence = [w for w in word_tokens if not w in stop_words]\n",
        "\n",
        "  filtered_sentence = []\n",
        "\n",
        "  for w in word_tokens:\n",
        "      if w not in stop_words:\n",
        "          filtered_sentence.append(w)"
      ],
      "execution_count": 13,
      "outputs": []
    },
    {
      "cell_type": "markdown",
      "metadata": {
        "id": "R2q1gNsCc5Zx",
        "colab_type": "text"
      },
      "source": [
        "Vector hóa dữ liệu văn bản bằng TF-IDF với max_feature = 5000 (dùng để tranh ngốn ram của máy):\n",
        "- TF: tần suất xuất hiện của 1 từ trong 1 văn bản\n",
        "- IDF: tần suất nghịch của 1 từ trong 1 tập văn bản\n",
        "- .fit: Máy học từ vựng và tính toán idf( tần suất nghịch của 1 từ trong tập các văn bản) của train set."
      ]
    },
    {
      "cell_type": "code",
      "metadata": {
        "id": "RlAwi88g5hpv",
        "colab_type": "code",
        "colab": {
          "base_uri": "https://localhost:8080/",
          "height": 134
        },
        "outputId": "38630144-bbb8-46aa-db79-273846b1dfe3"
      },
      "source": [
        "from sklearn.feature_extraction.text import TfidfVectorizer\n",
        "tfIdfVec = TfidfVectorizer()\n",
        "tfIdfVec.fit(features)"
      ],
      "execution_count": 14,
      "outputs": [
        {
          "output_type": "execute_result",
          "data": {
            "text/plain": [
              "TfidfVectorizer(analyzer='word', binary=False, decode_error='strict',\n",
              "                dtype=<class 'numpy.float64'>, encoding='utf-8',\n",
              "                input='content', lowercase=True, max_df=1.0, max_features=None,\n",
              "                min_df=1, ngram_range=(1, 1), norm='l2', preprocessor=None,\n",
              "                smooth_idf=True, stop_words=None, strip_accents=None,\n",
              "                sublinear_tf=False, token_pattern='(?u)\\\\b\\\\w\\\\w+\\\\b',\n",
              "                tokenizer=None, use_idf=True, vocabulary=None)"
            ]
          },
          "metadata": {
            "tags": []
          },
          "execution_count": 14
        }
      ]
    },
    {
      "cell_type": "markdown",
      "metadata": {
        "id": "hwPjwYJSc9wJ",
        "colab_type": "text"
      },
      "source": [
        "Đưa dữ liệu văn bản về matrix để training model"
      ]
    },
    {
      "cell_type": "code",
      "metadata": {
        "id": "tARX7fOY5kXv",
        "colab_type": "code",
        "colab": {}
      },
      "source": [
        "tf_idf_x = tfIdfVec.transform(features)"
      ],
      "execution_count": 15,
      "outputs": []
    },
    {
      "cell_type": "markdown",
      "metadata": {
        "id": "PQCW2tlKdAlB",
        "colab_type": "text"
      },
      "source": [
        "Tiến hành chia dữ liệu train và test: theo tỉ lệ 90% training và 10% testing vì khi thực hiện theo tỉ lệ 80/20 hoặc 70/30 thì độ chính xác của các thuật toán giảm"
      ]
    },
    {
      "cell_type": "code",
      "metadata": {
        "id": "C8hKZy4Y5mr_",
        "colab_type": "code",
        "colab": {}
      },
      "source": [
        "from sklearn.model_selection import train_test_split\n",
        "features_train, features_test, labels_train, labels_test = train_test_split(tf_idf_x.toarray(), labels, test_size = .1, random_state = 0)"
      ],
      "execution_count": 16,
      "outputs": []
    },
    {
      "cell_type": "markdown",
      "metadata": {
        "id": "ZndWRL5xdIl4",
        "colab_type": "text"
      },
      "source": [
        "# Chosing Model"
      ]
    },
    {
      "cell_type": "markdown",
      "metadata": {
        "id": "fQgK7dvddQVJ",
        "colab_type": "text"
      },
      "source": [
        "Thêm thư viện sklearn gồm :\n",
        "- Các model sử dụng : LinearSVC, Multinomial Naive Bayes, Logistic Regresstion, Random Forest"
      ]
    },
    {
      "cell_type": "code",
      "metadata": {
        "id": "IcW2GdUi5mm2",
        "colab_type": "code",
        "colab": {}
      },
      "source": [
        "from sklearn.svm import LinearSVC\n",
        "from sklearn.naive_bayes import MultinomialNB\n",
        "from sklearn.linear_model import LogisticRegression\n",
        "from sklearn.ensemble import RandomForestClassifier"
      ],
      "execution_count": 17,
      "outputs": []
    },
    {
      "cell_type": "code",
      "metadata": {
        "id": "czzUuCIR51mv",
        "colab_type": "code",
        "colab": {
          "base_uri": "https://localhost:8080/",
          "height": 50
        },
        "outputId": "ef227cb0-602b-4959-be74-7c8289c090c4"
      },
      "source": [
        "lsvc = LinearSVC()\n",
        "lsvc.fit(features_train, labels_train)\n",
        "print(\"Train accuracy: \",lsvc.score(features_train, labels_train))\n",
        "print(\"Test accuracy: \",lsvc.score(features_test, labels_test))"
      ],
      "execution_count": 18,
      "outputs": [
        {
          "output_type": "stream",
          "text": [
            "Train accuracy:  0.9970501474926253\n",
            "Test accuracy:  0.9204545454545454\n"
          ],
          "name": "stdout"
        }
      ]
    },
    {
      "cell_type": "code",
      "metadata": {
        "id": "fWatFhf854ra",
        "colab_type": "code",
        "colab": {
          "base_uri": "https://localhost:8080/",
          "height": 50
        },
        "outputId": "5a8ae810-28a0-4da9-b0be-2e91bdd84f84"
      },
      "source": [
        "mnb = MultinomialNB()\n",
        "mnb.fit(features_train, labels_train)\n",
        "print(\"train accuracy: \",mnb.score(features_train, labels_train))\n",
        "print(\"Test accuracy: \",mnb.score(features_test, labels_test))"
      ],
      "execution_count": 19,
      "outputs": [
        {
          "output_type": "stream",
          "text": [
            "train accuracy:  0.9157184997892962\n",
            "Test accuracy:  0.8636363636363636\n"
          ],
          "name": "stdout"
        }
      ]
    },
    {
      "cell_type": "code",
      "metadata": {
        "id": "jiAKeSTy56-H",
        "colab_type": "code",
        "colab": {
          "base_uri": "https://localhost:8080/",
          "height": 50
        },
        "outputId": "0d6760e1-6470-4f32-e7bb-39d01e3227e8"
      },
      "source": [
        "lr = LogisticRegression()\n",
        "lr.fit(features_train, labels_train)\n",
        "print(\"train accuracy: \",lr.score(features_train, labels_train))\n",
        "print(\"Test accuracy: \",lr.score(features_test, labels_test))"
      ],
      "execution_count": 20,
      "outputs": [
        {
          "output_type": "stream",
          "text": [
            "train accuracy:  0.9637589549093973\n",
            "Test accuracy:  0.8901515151515151\n"
          ],
          "name": "stdout"
        }
      ]
    },
    {
      "cell_type": "code",
      "metadata": {
        "id": "bqARVqPC5-Un",
        "colab_type": "code",
        "colab": {
          "base_uri": "https://localhost:8080/",
          "height": 50
        },
        "outputId": "69fa2955-605c-416b-eac7-f3aa53294699"
      },
      "source": [
        "rfc = RandomForestClassifier(n_estimators = 10, random_state = 0)\n",
        "rfc.fit(features_train, labels_train)\n",
        "print(\"train accuracy: \",rfc.score(features_train, labels_train))\n",
        "print(\"Test accuracy: \",rfc.score(features_test, labels_test))"
      ],
      "execution_count": 21,
      "outputs": [
        {
          "output_type": "stream",
          "text": [
            "train accuracy:  0.9953645174884113\n",
            "Test accuracy:  0.7234848484848485\n"
          ],
          "name": "stdout"
        }
      ]
    },
    {
      "cell_type": "code",
      "metadata": {
        "id": "Ail9CGN16Ejf",
        "colab_type": "code",
        "colab": {}
      },
      "source": [
        "from sklearn.metrics import confusion_matrix\n",
        "from sklearn.metrics import f1_score"
      ],
      "execution_count": 22,
      "outputs": []
    },
    {
      "cell_type": "code",
      "metadata": {
        "id": "AvPWeZH26GUT",
        "colab_type": "code",
        "colab": {
          "base_uri": "https://localhost:8080/",
          "height": 34
        },
        "outputId": "96dcd715-b6c7-40d3-cc27-6261bb017f37"
      },
      "source": [
        "y_pred=lsvc.predict(features_test)\n",
        "f1 = f1_score(labels_test, y_pred, average='macro')\n",
        "print(\"F1 score: \",f1)"
      ],
      "execution_count": 23,
      "outputs": [
        {
          "output_type": "stream",
          "text": [
            "F1 score:  0.913350084588004\n"
          ],
          "name": "stdout"
        }
      ]
    },
    {
      "cell_type": "code",
      "metadata": {
        "id": "N93Ky06J6I83",
        "colab_type": "code",
        "colab": {
          "base_uri": "https://localhost:8080/",
          "height": 34
        },
        "outputId": "349855d1-a3b7-4939-f8ec-f6aa5b802a6b"
      },
      "source": [
        "y_pred=mnb.predict(features_test)\n",
        "f1 = f1_score(labels_test, y_pred, average='macro')\n",
        "print(\"F1 score: \",f1)"
      ],
      "execution_count": 24,
      "outputs": [
        {
          "output_type": "stream",
          "text": [
            "F1 score:  0.7649294130810145\n"
          ],
          "name": "stdout"
        }
      ]
    },
    {
      "cell_type": "code",
      "metadata": {
        "id": "pTdxqZfO6KpQ",
        "colab_type": "code",
        "colab": {
          "base_uri": "https://localhost:8080/",
          "height": 34
        },
        "outputId": "13d7491f-380d-4f5b-a0e0-7b1d4da27d05"
      },
      "source": [
        "y_pred=lr.predict(features_test)\n",
        "f1 = f1_score(labels_test, y_pred, average='macro')\n",
        "print(\"F1 score: \",f1)"
      ],
      "execution_count": 25,
      "outputs": [
        {
          "output_type": "stream",
          "text": [
            "F1 score:  0.8484557893282343\n"
          ],
          "name": "stdout"
        }
      ]
    },
    {
      "cell_type": "code",
      "metadata": {
        "id": "U2r-jpL26MAf",
        "colab_type": "code",
        "colab": {
          "base_uri": "https://localhost:8080/",
          "height": 34
        },
        "outputId": "04581f84-33a5-47c2-f44b-5ac6a53151b2"
      },
      "source": [
        "y_pred=rfc.predict(features_test)\n",
        "f1 = f1_score(labels_test, y_pred, average='macro')\n",
        "print(\"F1 score: \",f1)"
      ],
      "execution_count": 26,
      "outputs": [
        {
          "output_type": "stream",
          "text": [
            "F1 score:  0.7170242526650754\n"
          ],
          "name": "stdout"
        }
      ]
    },
    {
      "cell_type": "markdown",
      "metadata": {
        "id": "4uHCjrbEu6BH",
        "colab_type": "text"
      },
      "source": [
        "# Chương trình "
      ]
    },
    {
      "cell_type": "code",
      "metadata": {
        "id": "uQXOO5l-6NuP",
        "colab_type": "code",
        "colab": {
          "base_uri": "https://localhost:8080/",
          "height": 70
        },
        "outputId": "8852ecd9-086a-4227-effe-ce8af17b0a5f"
      },
      "source": [
        "print(\"Nhap: \")\n",
        "ch=(str(input()))\n",
        "ch = re.sub(r'[^a-zA-Z]',' ',ch)\n",
        "ch_tokens = word_tokenize(ch)\n",
        "ch_sentence = [w for w in ch_tokens if not w in stop_words]"
      ],
      "execution_count": 27,
      "outputs": [
        {
          "output_type": "stream",
          "text": [
            "Nhap: \n",
            "ARSENAL stars Emiliano Martinez and Lucas Torreira celebrated their FA Cup triumph with a late-night trip to McDonalds.  The Gunners won the competition for a record 14th time thanks to two goals from captain Pierre-Emerick Aubameyang.  Lucas Torreira uploaded this photo of him and team-mate Emiliano Martinez grabbing some late-night grub 3 Lucas Torreira uploaded this photo of him and team-mate Emiliano Martinez grabbing some late-night grubCredit: Instagram / @ltorreira34 Christian Pulisic, who was forced off during the game with a hamstring injury, scored what proved to be a consolation for Chelsea.  Unsurprisingly players and fans partied in the aftermath of a unique triumph at Wembley.  Due to the coronavirus, the game was played behind-closed-doors at the national stadium.  Martinez and Torreira were snapped getting some late-night grub at a Mcdonalds.  ¡ C A M P E O N E S ! 🏆#HeadsUpFACupFinal | @EmiratesFACup pic.twitter.com/Wd9l52zeQt  — 🎗 Arsenal (@Arsenal) August 1, 2020 The changing room was a scene of celebration after the game 3 The changing room was a scene of celebration after the game  Both players had beaming smiles, while it was left to safe-hands goalkeeper Martinez to hold the McDelivery haul.  Martinez has been one of the stars of Project Restart for the Gunners after replacing the injured Bernd Leno between the sticks.  It has left many believing the Argentinian finally has a chance of bagging the No1 spot at the Emirates.  He was understandably emotional after the game at Wembley and broke down in tears when asked about his proud family watching on.  Martinez was also heard saying that he \"doesn't care about money\" as he made his way down the tunnel.  ARSENAL NEWS LIVE: Follow for the latest Gunners news It was a day of celebration for the Gunners who rounded off a poor Premier League campaign by bagging some silverware.  Two-goal hero Pierre-Emerick Aubameyang was branded the GOAT by his team-mates as the players celebrated their success.  Bukayo Saka posted a hilarious photo on Instagram of the Gabon striker holding a tablet with a photo of an actual goat on it.  It was captioned: \"There's only one goat\", which left the man himself in stitches.\n"
          ],
          "name": "stdout"
        }
      ]
    },
    {
      "cell_type": "code",
      "metadata": {
        "id": "4_Vs3SEQ6YiP",
        "colab_type": "code",
        "colab": {}
      },
      "source": [
        "ch_val = tfIdfVec.transform([ch]).toarray()"
      ],
      "execution_count": 28,
      "outputs": []
    },
    {
      "cell_type": "code",
      "metadata": {
        "id": "7zVJZ7sZ-i1i",
        "colab_type": "code",
        "colab": {}
      },
      "source": [
        "ch_pred=lsvc.predict(ch_val)"
      ],
      "execution_count": 29,
      "outputs": []
    },
    {
      "cell_type": "code",
      "metadata": {
        "id": "L-TFoOv8-kNh",
        "colab_type": "code",
        "colab": {
          "base_uri": "https://localhost:8080/",
          "height": 34
        },
        "outputId": "5444160d-e61c-42c8-9ee6-580d8ddc8db1"
      },
      "source": [
        "if (ch_pred[0]==0):\n",
        "  print('femail')\n",
        "if (ch_pred[0]==1):\n",
        "  print('films')\n",
        "if (ch_pred[0]==2):\n",
        "  print('health')\n",
        "if (ch_pred[0]==3):\n",
        "  print('lifestyle')\n",
        "if (ch_pred[0]==4):\n",
        "  print('sport')\n",
        "if (ch_pred[0]==5):\n",
        "  print('technology')\n",
        "if (ch_pred[0]==6):\n",
        "  print('travel')\n",
        "if (ch_pred[0]==7):\n",
        "  print('tvshowbiz')"
      ],
      "execution_count": 30,
      "outputs": [
        {
          "output_type": "stream",
          "text": [
            "sport\n"
          ],
          "name": "stdout"
        }
      ]
    }
  ]
}